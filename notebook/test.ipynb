{
 "cells": [
  {
   "cell_type": "code",
   "execution_count": 20,
   "metadata": {},
   "outputs": [],
   "source": [
    "import torch\n",
    "import torch.nn as nn\n",
    "import numpy as np\n",
    "from torch.optim import Adam\n",
    "import pandas as pd\n",
    "from torch.utils.data import TensorDataset,DataLoader\n",
    "import joblib\n",
    "import requests\n",
    "from tqdm import tqdm_notebook as tqdm\n",
    "from pytorch_lightning import seed_everything\n",
    "import random\n",
    "import warnings \n",
    "import matplotlib.pyplot as plt\n",
    "import seaborn as sns\n",
    "warnings.filterwarnings('ignore')\n",
    "exec(requests.get('https://raw.githubusercontent.com/facebookresearch/madgrad/main/madgrad/madgrad.py').text)"
   ]
  },
  {
   "cell_type": "code",
   "execution_count": 21,
   "metadata": {},
   "outputs": [],
   "source": [
    "data = joblib.load('..\\data\\dataset.pkl')\n",
    "\n",
    "batch_size = 1\n",
    "hidden_size = 128\n",
    "state_size = data['state'].shape[2]\n",
    "request_size = data['value'].shape[1]\n",
    "value_size = data['value'].shape[1]\n",
    "action_size = data['action'].shape[2]\n",
    "time_step = data['state'].shape[1]"
   ]
  },
  {
   "cell_type": "code",
   "execution_count": 22,
   "metadata": {},
   "outputs": [],
   "source": [
    "\n",
    "class R2D2(nn.Module):\n",
    "  def __init__(self,obs_size,n_actions,hidden_size):\n",
    "    super().__init__()\n",
    "    self.hidden_size = hidden_size\n",
    "    self.l1 = nn.Linear(obs_size,self.hidden_size)\n",
    "    self.l2 = nn.LSTMCell(self.hidden_size,self.hidden_size)\n",
    "    self.l3 = nn.Linear(self.hidden_size,n_actions)\n",
    "  \n",
    "  def forward(self,x,hx,cx):\n",
    "    x = torch.tanh(self.l1(x))\n",
    "    hx,cx = self.l2(x,(hx,cx))\n",
    "    x = torch.tanh(hx)\n",
    "    x = torch.sigmoid(self.l3(x)) # to range[0,1]\n",
    "    return x,hx,cx\n"
   ]
  },
  {
   "cell_type": "code",
   "execution_count": 23,
   "metadata": {},
   "outputs": [],
   "source": [
    "class ActorCritic(nn.Module):\n",
    "  def __init__(self,actor,critic,time_step):\n",
    "    super().__init__()\n",
    "    self.time_step = time_step\n",
    "    \n",
    "    self.actor = actor\n",
    "    self.actor_optimizer = MADGRAD(actor.parameters() ,lr = 1e-3)\n",
    "    \n",
    "    self.critic = critic\n",
    "    self.critic_optimizer = MADGRAD(critic.parameters() ,lr = 1e-3)\n",
    "  \n",
    "  def forward(self,state,request):\n",
    "    actions = self.actor_forward(state,request)\n",
    "    values = self.critic_forward(state,actions)\n",
    "    return values\n",
    "\n",
    "  def actor_forward(self,state,request,eval=False):\n",
    "    '''\n",
    "    # 給定狀態(不可控)和需求 輸出一系列動作\n",
    "    '''\n",
    "    # train or eval model\n",
    "    if eval == True:\n",
    "      self.actor.eval()\n",
    "    else:\n",
    "      self.actor.train()\n",
    "    \n",
    "    # initialize hx,cx\n",
    "    hx = torch.zeros((state.size()[0],actor.hidden_size))\n",
    "    cx = torch.zeros((state.size()[0],actor.hidden_size))\n",
    "    \n",
    "    # get actions shape(batch_size,time_step,action_size)\n",
    "    actions = torch.FloatTensor()\n",
    "    \n",
    "    # 對一定時間長度進行遍歷\n",
    "    for t in range(self.time_step):\n",
    "      # 在t時刻 根據t時刻的狀態,需求以及短期記憶hx,長期記憶cx當作輸入,得到輸出a(動作),更新後的短期記憶hx,更新後的長期記憶cx\n",
    "      a,hx,cx = self.actor(torch.cat((state[:,t,:],request),dim=1),hx,cx)\n",
    "      actions = torch.cat((actions,a),dim=1)\n",
    "    # 一系列動作 (Batch,Time,Features)\n",
    "    actions = actions.reshape(state.size()[0],self.time_step,-1)\n",
    "    \n",
    "    return actions\n",
    "  \n",
    "  def critic_forward(self,state,action,eval=False):\n",
    "    '''\n",
    "    # 輸入狀態(不可控)和一系列動作(可控),預測產出\n",
    "    '''\n",
    "\n",
    "    # train or eval model\n",
    "    if eval == True:\n",
    "      self.critic.eval()\n",
    "    else:\n",
    "      self.critic.train()\n",
    "    \n",
    "    # initialize hx,cx\n",
    "    hx = torch.zeros((state.size()[0],critic.hidden_size))\n",
    "    cx = torch.zeros((state.size()[0],critic.hidden_size))\n",
    "\n",
    "    # get values shape(batch_size,time_step,value_size)\n",
    "    values = torch.FloatTensor()\n",
    "    \n",
    "    # 對時間點遍歷\n",
    "    for t in range(self.time_step):\n",
    "      # 根據當前t時刻狀態,動作,hx,cx當輸入得到,v(產出),更新hx,cx\n",
    "      v,hx,cx = self.critic(torch.cat((state[:,t,:],action[:,t,:]),dim=1),hx,cx)\n",
    "      values = torch.cat((values,v),dim=1)\n",
    "    \n",
    "    # 一系列產出(Batch,Time,Features)\n",
    "    values = values.reshape(state.size()[0],self.time_step,-1)\n",
    "    \n",
    "    # 只取最後一個時間點\n",
    "    return values[:,-1,:] # return last time_step\n",
    "\n",
    "  def train_critic(self,state,action,value):\n",
    "    '''\n",
    "    x: [state,action]\n",
    "    y: [value]\n",
    "    '監督式學習'\n",
    "    '''\n",
    "    self.critic.train()\n",
    "    self.actor.eval()\n",
    "    value_hat = self.critic_forward(state,action)\n",
    "    \n",
    "    # 預測值跟label的平方差愈小愈好\n",
    "    loss = ((value_hat-value)**2).mean()\n",
    "    loss.backward()\n",
    "    self.critic_optimizer.step()\n",
    "    self.critic_optimizer.zero_grad()\n",
    "    return loss.item()\n",
    "  \n",
    "  def train_actor(self,state,request):\n",
    "    '''\n",
    "    x: [state,request]\n",
    "    y: maximum critic value\n",
    "    '最小化產出跟request的差異'\n",
    "    '''\n",
    "    self.actor.train()\n",
    "    self.critic.eval()\n",
    "    actions = self.actor_forward(state,request)\n",
    "    value_hat = self.critic_forward(state,actions)\n",
    "\n",
    "    # 首先預測值跟需求的平方差愈小愈好\n",
    "    loss1 = ((request-value_hat)**2).mean()\n",
    "\n",
    "    # 再來避免\"變異數太大(時間維度上)\" 因為盤控人員不可能突然調太多\n",
    "    loss2 = actions.reshape(-1,time_step,action_size).std(axis=1)\n",
    "    loss2 = loss2.sum(axis=-1).mean(axis=0)\n",
    "\n",
    "    loss = loss1 + loss2\n",
    "    loss.backward()\n",
    "    \n",
    "    self.actor_optimizer.step()\n",
    "    self.actor.zero_grad()\n",
    "\n",
    "    return loss.item()"
   ]
  },
  {
   "cell_type": "code",
   "execution_count": 24,
   "metadata": {},
   "outputs": [],
   "source": [
    "actor = R2D2(state_size+request_size,action_size,hidden_size)\n",
    "actor.load_state_dict(torch.load('../model/actor.pth'))\n",
    "critic = R2D2(state_size+action_size,value_size,hidden_size)\n",
    "critic.load_state_dict(torch.load('../model/critic.pth'))\n",
    "model = ActorCritic(actor,critic,time_step)"
   ]
  },
  {
   "cell_type": "code",
   "execution_count": 25,
   "metadata": {},
   "outputs": [
    {
     "data": {
      "text/html": [
       "<div>\n",
       "<style scoped>\n",
       "    .dataframe tbody tr th:only-of-type {\n",
       "        vertical-align: middle;\n",
       "    }\n",
       "\n",
       "    .dataframe tbody tr th {\n",
       "        vertical-align: top;\n",
       "    }\n",
       "\n",
       "    .dataframe thead th {\n",
       "        text-align: right;\n",
       "    }\n",
       "</style>\n",
       "<table border=\"1\" class=\"dataframe\">\n",
       "  <thead>\n",
       "    <tr style=\"text-align: right;\">\n",
       "      <th></th>\n",
       "      <th>0</th>\n",
       "    </tr>\n",
       "  </thead>\n",
       "  <tbody>\n",
       "    <tr>\n",
       "      <th>count</th>\n",
       "      <td>2886.000000</td>\n",
       "    </tr>\n",
       "    <tr>\n",
       "      <th>mean</th>\n",
       "      <td>0.970988</td>\n",
       "    </tr>\n",
       "    <tr>\n",
       "      <th>std</th>\n",
       "      <td>0.027314</td>\n",
       "    </tr>\n",
       "    <tr>\n",
       "      <th>min</th>\n",
       "      <td>0.000000</td>\n",
       "    </tr>\n",
       "    <tr>\n",
       "      <th>25%</th>\n",
       "      <td>0.969966</td>\n",
       "    </tr>\n",
       "    <tr>\n",
       "      <th>50%</th>\n",
       "      <td>0.973009</td>\n",
       "    </tr>\n",
       "    <tr>\n",
       "      <th>75%</th>\n",
       "      <td>0.975342</td>\n",
       "    </tr>\n",
       "    <tr>\n",
       "      <th>max</th>\n",
       "      <td>1.000000</td>\n",
       "    </tr>\n",
       "  </tbody>\n",
       "</table>\n",
       "</div>"
      ],
      "text/plain": [
       "                 0\n",
       "count  2886.000000\n",
       "mean      0.970988\n",
       "std       0.027314\n",
       "min       0.000000\n",
       "25%       0.969966\n",
       "50%       0.973009\n",
       "75%       0.975342\n",
       "max       1.000000"
      ]
     },
     "metadata": {},
     "output_type": "display_data"
    },
    {
     "data": {
      "text/html": [
       "<div>\n",
       "<style scoped>\n",
       "    .dataframe tbody tr th:only-of-type {\n",
       "        vertical-align: middle;\n",
       "    }\n",
       "\n",
       "    .dataframe tbody tr th {\n",
       "        vertical-align: top;\n",
       "    }\n",
       "\n",
       "    .dataframe thead th {\n",
       "        text-align: right;\n",
       "    }\n",
       "</style>\n",
       "<table border=\"1\" class=\"dataframe\">\n",
       "  <thead>\n",
       "    <tr style=\"text-align: right;\">\n",
       "      <th></th>\n",
       "      <th>0</th>\n",
       "    </tr>\n",
       "  </thead>\n",
       "  <tbody>\n",
       "    <tr>\n",
       "      <th>count</th>\n",
       "      <td>2886.000000</td>\n",
       "    </tr>\n",
       "    <tr>\n",
       "      <th>mean</th>\n",
       "      <td>0.986664</td>\n",
       "    </tr>\n",
       "    <tr>\n",
       "      <th>std</th>\n",
       "      <td>0.007889</td>\n",
       "    </tr>\n",
       "    <tr>\n",
       "      <th>min</th>\n",
       "      <td>0.973011</td>\n",
       "    </tr>\n",
       "    <tr>\n",
       "      <th>25%</th>\n",
       "      <td>0.979810</td>\n",
       "    </tr>\n",
       "    <tr>\n",
       "      <th>50%</th>\n",
       "      <td>0.986746</td>\n",
       "    </tr>\n",
       "    <tr>\n",
       "      <th>75%</th>\n",
       "      <td>0.993669</td>\n",
       "    </tr>\n",
       "    <tr>\n",
       "      <th>max</th>\n",
       "      <td>0.999997</td>\n",
       "    </tr>\n",
       "  </tbody>\n",
       "</table>\n",
       "</div>"
      ],
      "text/plain": [
       "                 0\n",
       "count  2886.000000\n",
       "mean      0.986664\n",
       "std       0.007889\n",
       "min       0.973011\n",
       "25%       0.979810\n",
       "50%       0.986746\n",
       "75%       0.993669\n",
       "max       0.999997"
      ]
     },
     "metadata": {},
     "output_type": "display_data"
    },
    {
     "data": {
      "image/png": "[encoded data removed]",
      "text/plain": [
       "<Figure size 432x288 with 1 Axes>"
      ]
     },
     "metadata": {
      "needs_background": "light"
     },
     "output_type": "display_data"
    },
    {
     "name": "stdout",
     "output_type": "stream",
     "text": [
      "(2886, 8, 9)\n",
      "(2886, 8, 5)\n",
      "(2886, 1)\n",
      "(2886, 1)\n"
     ]
    }
   ],
   "source": [
    "a = pd.DataFrame(data['value']).describe()\n",
    "display(a)\n",
    "\n",
    "data['request'] = None\n",
    "\n",
    "for i in a.columns:\n",
    "    if data['request'] == None:\n",
    "        data['request'] = np.random.uniform(low=a.loc['50%'][i],high=a.loc['max'][i],size=(data['value'].shape[0],1))\n",
    "    else:\n",
    "        data['request'] = np.hstack([data['request'],np.random.uniform(low=a.loc['50%'][i],high=a.loc['max'][i],size=(data['value'].shape[0],1))])\n",
    "\n",
    "b = pd.DataFrame(data['request']).describe()\n",
    "display(b)\n",
    "\n",
    "a = pd.DataFrame(data['value'],columns=data['value_col'])\n",
    "for i in a.columns:\n",
    "    sns.kdeplot(a[i],color='b')\n",
    "    plt.axvline(x=a.describe().loc['50%',i], label= \"50%\"+str(i), c='r')\n",
    "    plt.axvline(x=a.describe().loc['max',i], label= \"max\"+str(i), c='r')\n",
    "    plt.legend()\n",
    "    plt.title(i)\n",
    "    plt.show()\n",
    "\n",
    "# shape\n",
    "print(data['state'].shape)\n",
    "print(data['action'].shape)\n",
    "print(data['value'].shape)\n",
    "print(data['request'].shape)\n",
    "\n",
    "# tensor\n",
    "data['state'] = torch.FloatTensor(data['state'])\n",
    "data['request'] = torch.FloatTensor(data['request'])\n",
    "data['action'] = torch.FloatTensor(data['action'])\n",
    "data['value'] = torch.FloatTensor(data['value'])\n",
    "\n",
    "\n",
    "\n",
    "# data_iter\n",
    "data = TensorDataset(data['state'],data['request'],data['action'],data['value'])\n",
    "train_iter = DataLoader(data,batch_size=batch_size,shuffle=True)"
   ]
  },
  {
   "cell_type": "code",
   "execution_count": 26,
   "metadata": {},
   "outputs": [
    {
     "data": {
      "application/vnd.jupyter.widget-view+json": {
       "model_id": "757cb48e87a140c5bb3fc5317c364030",
       "version_major": 2,
       "version_minor": 0
      },
      "text/plain": [
       "HBox(children=(FloatProgress(value=0.0, max=365.0), HTML(value='')))"
      ]
     },
     "metadata": {},
     "output_type": "display_data"
    },
    {
     "name": "stdout",
     "output_type": "stream",
     "text": [
      "\n"
     ]
    }
   ],
   "source": [
    "wanna_ouput = [1]\n",
    "real_value = []\n",
    "pred_value = []\n",
    "for i in tqdm(range(365)):\n",
    "    s,r,a,v = next(iter(train_iter))\n",
    "    s = s[0].reshape(-1,time_step,state_size)\n",
    "    r = torch.full((1,1),wanna_ouput[0])\n",
    "    a_ = model.actor_forward(s,r,eval=True) # 模型建議操作\n",
    "    v_ = model.critic_forward(s,a,eval=True) # 模型預測輸出\n",
    "    pred_value.append(v_.detach().numpy()[0])\n",
    "    real_value.append(v.detach().numpy()[0])\n",
    "pred_value = np.array(pred_value)\n",
    "real_value = np.array(real_value)"
   ]
  },
  {
   "cell_type": "code",
   "execution_count": 27,
   "metadata": {},
   "outputs": [
    {
     "data": {
      "image/png": "[encoded data removed]",
      "text/plain": [
       "<Figure size 1440x360 with 1 Axes>"
      ]
     },
     "metadata": {
      "needs_background": "light"
     },
     "output_type": "display_data"
    }
   ],
   "source": [
    "plt.figure(figsize=(20,5))\n",
    "plt.plot(pd.Series(pred_value[:,0]).rolling(5).mean(),label='pred')\n",
    "plt.plot(pd.Series(real_value[:,0]).rolling(5).mean(),label='real')\n",
    "plt.legend()\n",
    "plt.show()"
   ]
  },
  {
   "cell_type": "code",
   "execution_count": 28,
   "metadata": {},
   "outputs": [
    {
     "name": "stdout",
     "output_type": "stream",
     "text": [
      "mape 0.0060057384\n"
     ]
    }
   ],
   "source": [
    "import numpy as np\n",
    "\n",
    "def mape(a, b): \n",
    "    mask = a != 0\n",
    "    return (np.fabs(a - b)/a)[mask].mean()\n",
    "\n",
    "print('mape',mape(real_value[:,0],pred_value[:,0]))"
   ]
  },
  {
   "cell_type": "code",
   "execution_count": null,
   "metadata": {},
   "outputs": [],
   "source": []
  }
 ],
 "metadata": {
  "interpreter": {
   "hash": "2ccee5cc862501c1aad1cf19888c2a2eca4026b72d187db43d5e889cbdc6ee97"
  },
  "kernelspec": {
   "display_name": "Python 3.8.5 64-bit ('base': conda)",
   "language": "python",
   "name": "python3"
  },
  "language_info": {
   "codemirror_mode": {
    "name": "ipython",
    "version": 3
   },
   "file_extension": ".py",
   "mimetype": "text/x-python",
   "name": "python",
   "nbconvert_exporter": "python",
   "pygments_lexer": "ipython3",
   "version": "3.8.5"
  },
  "orig_nbformat": 4
 },
 "nbformat": 4,
 "nbformat_minor": 2
}
