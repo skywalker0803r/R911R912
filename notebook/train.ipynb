{
 "cells": [
  {
   "cell_type": "code",
   "execution_count": 1,
   "metadata": {},
   "outputs": [
    {
     "name": "stderr",
     "output_type": "stream",
     "text": [
      "Global seed set to 42\n"
     ]
    }
   ],
   "source": [
    "\n",
    "import torch\n",
    "import torch.nn as nn\n",
    "import numpy as np\n",
    "from torch.optim import Adam\n",
    "import pandas as pd\n",
    "from torch.utils.data import TensorDataset,DataLoader\n",
    "import joblib\n",
    "import requests\n",
    "from tqdm import tqdm_notebook as tqdm\n",
    "from pytorch_lightning import seed_everything\n",
    "import random\n",
    "import warnings \n",
    "import matplotlib.pyplot as plt\n",
    "import seaborn as sns\n",
    "warnings.filterwarnings('ignore')\n",
    "exec(requests.get('https://raw.githubusercontent.com/facebookresearch/madgrad/main/madgrad/madgrad.py').text)\n",
    "\n",
    "def set_seed(seed = int):\n",
    "    '''Sets the seed of the entire notebook so results are the same every time we run.\n",
    "    This is for REPRODUCIBILITY.'''\n",
    "    np.random.seed(seed)\n",
    "    random_state = np.random.RandomState(seed)\n",
    "    random.seed(seed)\n",
    "    torch.manual_seed(seed)\n",
    "    torch.cuda.manual_seed(seed)\n",
    "    torch.backends.cudnn.deterministic = True\n",
    "    torch.backends.cudnn.benchmark = False\n",
    "    os.environ['PYTHONHASHSEED'] = str(seed)\n",
    "    seed_everything(seed)\n",
    "    return random_state\n",
    "random_state = set_seed(42)"
   ]
  },
  {
   "cell_type": "code",
   "execution_count": 2,
   "metadata": {},
   "outputs": [],
   "source": [
    "# Load data\n",
    "data = joblib.load('..\\data\\dataset.pkl')"
   ]
  },
  {
   "cell_type": "code",
   "execution_count": 3,
   "metadata": {},
   "outputs": [
    {
     "data": {
      "text/plain": [
       "((2971, 24, 12), (2971, 24, 5), (2971, 2))"
      ]
     },
     "execution_count": 3,
     "metadata": {},
     "output_type": "execute_result"
    }
   ],
   "source": [
    "data['state'].shape,data['action'].shape,data['value'].shape"
   ]
  },
  {
   "cell_type": "markdown",
   "metadata": {},
   "source": [
    "# config"
   ]
  },
  {
   "cell_type": "code",
   "execution_count": 4,
   "metadata": {},
   "outputs": [],
   "source": [
    "batch_size = 32\n",
    "hidden_size = 128\n",
    "state_size = data['state'].shape[2]\n",
    "request_size = data['value'].shape[1]\n",
    "value_size = data['value'].shape[1]\n",
    "action_size = data['action'].shape[2]\n",
    "time_step = data['state'].shape[1]"
   ]
  },
  {
   "cell_type": "code",
   "execution_count": 5,
   "metadata": {},
   "outputs": [
    {
     "data": {
      "text/html": [
       "<div>\n",
       "<style scoped>\n",
       "    .dataframe tbody tr th:only-of-type {\n",
       "        vertical-align: middle;\n",
       "    }\n",
       "\n",
       "    .dataframe tbody tr th {\n",
       "        vertical-align: top;\n",
       "    }\n",
       "\n",
       "    .dataframe thead th {\n",
       "        text-align: right;\n",
       "    }\n",
       "</style>\n",
       "<table border=\"1\" class=\"dataframe\">\n",
       "  <thead>\n",
       "    <tr style=\"text-align: right;\">\n",
       "      <th></th>\n",
       "      <th>0</th>\n",
       "      <th>1</th>\n",
       "    </tr>\n",
       "  </thead>\n",
       "  <tbody>\n",
       "    <tr>\n",
       "      <th>count</th>\n",
       "      <td>2971.000000</td>\n",
       "      <td>2971.000000</td>\n",
       "    </tr>\n",
       "    <tr>\n",
       "      <th>mean</th>\n",
       "      <td>0.759823</td>\n",
       "      <td>0.010136</td>\n",
       "    </tr>\n",
       "    <tr>\n",
       "      <th>std</th>\n",
       "      <td>0.145427</td>\n",
       "      <td>0.046927</td>\n",
       "    </tr>\n",
       "    <tr>\n",
       "      <th>min</th>\n",
       "      <td>0.000000</td>\n",
       "      <td>0.000000</td>\n",
       "    </tr>\n",
       "    <tr>\n",
       "      <th>25%</th>\n",
       "      <td>0.722430</td>\n",
       "      <td>0.003744</td>\n",
       "    </tr>\n",
       "    <tr>\n",
       "      <th>50%</th>\n",
       "      <td>0.778829</td>\n",
       "      <td>0.007205</td>\n",
       "    </tr>\n",
       "    <tr>\n",
       "      <th>75%</th>\n",
       "      <td>0.850847</td>\n",
       "      <td>0.009706</td>\n",
       "    </tr>\n",
       "    <tr>\n",
       "      <th>max</th>\n",
       "      <td>1.000000</td>\n",
       "      <td>1.000000</td>\n",
       "    </tr>\n",
       "  </tbody>\n",
       "</table>\n",
       "</div>"
      ],
      "text/plain": [
       "                 0            1\n",
       "count  2971.000000  2971.000000\n",
       "mean      0.759823     0.010136\n",
       "std       0.145427     0.046927\n",
       "min       0.000000     0.000000\n",
       "25%       0.722430     0.003744\n",
       "50%       0.778829     0.007205\n",
       "75%       0.850847     0.009706\n",
       "max       1.000000     1.000000"
      ]
     },
     "metadata": {},
     "output_type": "display_data"
    },
    {
     "ename": "ValueError",
     "evalue": "The truth value of an array with more than one element is ambiguous. Use a.any() or a.all()",
     "output_type": "error",
     "traceback": [
      "\u001b[1;31m---------------------------------------------------------------------------\u001b[0m",
      "\u001b[1;31mValueError\u001b[0m                                Traceback (most recent call last)",
      "\u001b[1;32m~\\AppData\\Local\\Temp/ipykernel_14616/2449399980.py\u001b[0m in \u001b[0;36m<module>\u001b[1;34m\u001b[0m\n\u001b[0;32m      5\u001b[0m \u001b[1;33m\u001b[0m\u001b[0m\n\u001b[0;32m      6\u001b[0m \u001b[1;32mfor\u001b[0m \u001b[0mi\u001b[0m \u001b[1;32min\u001b[0m \u001b[0ma\u001b[0m\u001b[1;33m.\u001b[0m\u001b[0mcolumns\u001b[0m\u001b[1;33m:\u001b[0m\u001b[1;33m\u001b[0m\u001b[1;33m\u001b[0m\u001b[0m\n\u001b[1;32m----> 7\u001b[1;33m     \u001b[1;32mif\u001b[0m \u001b[0mdata\u001b[0m\u001b[1;33m[\u001b[0m\u001b[1;34m'request'\u001b[0m\u001b[1;33m]\u001b[0m \u001b[1;33m==\u001b[0m \u001b[1;32mNone\u001b[0m\u001b[1;33m:\u001b[0m\u001b[1;33m\u001b[0m\u001b[1;33m\u001b[0m\u001b[0m\n\u001b[0m\u001b[0;32m      8\u001b[0m         \u001b[0mdata\u001b[0m\u001b[1;33m[\u001b[0m\u001b[1;34m'request'\u001b[0m\u001b[1;33m]\u001b[0m \u001b[1;33m=\u001b[0m \u001b[0mnp\u001b[0m\u001b[1;33m.\u001b[0m\u001b[0mrandom\u001b[0m\u001b[1;33m.\u001b[0m\u001b[0muniform\u001b[0m\u001b[1;33m(\u001b[0m\u001b[0mlow\u001b[0m\u001b[1;33m=\u001b[0m\u001b[0ma\u001b[0m\u001b[1;33m.\u001b[0m\u001b[0mloc\u001b[0m\u001b[1;33m[\u001b[0m\u001b[1;34m'50%'\u001b[0m\u001b[1;33m]\u001b[0m\u001b[1;33m[\u001b[0m\u001b[0mi\u001b[0m\u001b[1;33m]\u001b[0m\u001b[1;33m,\u001b[0m\u001b[0mhigh\u001b[0m\u001b[1;33m=\u001b[0m\u001b[0ma\u001b[0m\u001b[1;33m.\u001b[0m\u001b[0mloc\u001b[0m\u001b[1;33m[\u001b[0m\u001b[1;34m'max'\u001b[0m\u001b[1;33m]\u001b[0m\u001b[1;33m[\u001b[0m\u001b[0mi\u001b[0m\u001b[1;33m]\u001b[0m\u001b[1;33m,\u001b[0m\u001b[0msize\u001b[0m\u001b[1;33m=\u001b[0m\u001b[1;33m(\u001b[0m\u001b[0mdata\u001b[0m\u001b[1;33m[\u001b[0m\u001b[1;34m'value'\u001b[0m\u001b[1;33m]\u001b[0m\u001b[1;33m.\u001b[0m\u001b[0mshape\u001b[0m\u001b[1;33m[\u001b[0m\u001b[1;36m0\u001b[0m\u001b[1;33m]\u001b[0m\u001b[1;33m,\u001b[0m\u001b[1;36m1\u001b[0m\u001b[1;33m)\u001b[0m\u001b[1;33m)\u001b[0m\u001b[1;33m\u001b[0m\u001b[1;33m\u001b[0m\u001b[0m\n\u001b[0;32m      9\u001b[0m     \u001b[1;32melse\u001b[0m\u001b[1;33m:\u001b[0m\u001b[1;33m\u001b[0m\u001b[1;33m\u001b[0m\u001b[0m\n",
      "\u001b[1;31mValueError\u001b[0m: The truth value of an array with more than one element is ambiguous. Use a.any() or a.all()"
     ]
    }
   ],
   "source": [
    "a = pd.DataFrame(data['value']).describe()\n",
    "display(a)\n",
    "\n",
    "data['request'] = None\n",
    "\n",
    "for i in a.columns:\n",
    "    if data['request'] == None:\n",
    "        data['request'] = np.random.uniform(low=a.loc['50%'][i],high=a.loc['max'][i],size=(data['value'].shape[0],1))\n",
    "    else:\n",
    "        data['request'] = np.hstack([data['request'],np.random.uniform(low=a.loc['50%'][i],high=a.loc['max'][i],size=(data['value'].shape[0],1))])\n",
    "\n",
    "b = pd.DataFrame(data['request']).describe()\n",
    "display(b)\n",
    "\n",
    "a = pd.DataFrame(data['value'],columns=data['value_col'])\n",
    "for i in a.columns:\n",
    "    sns.kdeplot(a[i],color='b')\n",
    "    plt.axvline(x=a.describe().loc['50%',i], label= \"50%\"+str(i), c='r')\n",
    "    plt.axvline(x=a.describe().loc['max',i], label= \"max\"+str(i), c='r')\n",
    "    plt.legend()\n",
    "    plt.title(i)\n",
    "    plt.show()\n",
    "\n",
    "# shape\n",
    "print(data['state'].shape)\n",
    "print(data['action'].shape)\n",
    "print(data['value'].shape)\n",
    "print(data['request'].shape)\n",
    "\n",
    "# tensor\n",
    "data['state'] = torch.FloatTensor(data['state'])\n",
    "data['request'] = torch.FloatTensor(data['request'])\n",
    "data['action'] = torch.FloatTensor(data['action'])\n",
    "data['value'] = torch.FloatTensor(data['value'])\n",
    "\n",
    "\n",
    "\n",
    "# data_iter\n",
    "data = TensorDataset(data['state'],data['request'],data['action'],data['value'])\n",
    "train_iter = DataLoader(data,batch_size=batch_size,shuffle=True)"
   ]
  },
  {
   "cell_type": "markdown",
   "metadata": {},
   "source": [
    "# R2D2 MODEL"
   ]
  },
  {
   "cell_type": "code",
   "execution_count": 57,
   "metadata": {},
   "outputs": [],
   "source": [
    "\n",
    "class R2D2(nn.Module):\n",
    "  def __init__(self,obs_size,n_actions,hidden_size):\n",
    "    super().__init__()\n",
    "    self.hidden_size = hidden_size\n",
    "    self.l1 = nn.Linear(obs_size,self.hidden_size)\n",
    "    self.l2 = nn.LSTMCell(self.hidden_size,self.hidden_size)\n",
    "    self.l3 = nn.Linear(self.hidden_size,n_actions)\n",
    "  \n",
    "  def forward(self,x,hx,cx):\n",
    "    x = torch.tanh(self.l1(x))\n",
    "    hx,cx = self.l2(x,(hx,cx))\n",
    "    x = torch.tanh(hx)\n",
    "    x = torch.sigmoid(self.l3(x)) # to range[0,1]\n",
    "    return x,hx,cx\n"
   ]
  },
  {
   "cell_type": "markdown",
   "metadata": {},
   "source": [
    "# ActorCritic Model"
   ]
  },
  {
   "cell_type": "code",
   "execution_count": 58,
   "metadata": {},
   "outputs": [],
   "source": [
    "class ActorCritic(nn.Module):\n",
    "  def __init__(self,actor,critic,time_step):\n",
    "    super().__init__()\n",
    "    self.time_step = time_step\n",
    "    \n",
    "    self.actor = actor\n",
    "    self.actor_optimizer = MADGRAD(actor.parameters() ,lr = 1e-3)\n",
    "    \n",
    "    self.critic = critic\n",
    "    self.critic_optimizer = MADGRAD(critic.parameters() ,lr = 1e-3)\n",
    "  \n",
    "  def forward(self,state,request):\n",
    "    actions = self.actor_forward(state,request)\n",
    "    values = self.critic_forward(state,actions)\n",
    "    return values\n",
    "\n",
    "  def actor_forward(self,state,request,eval=False):\n",
    "    '''\n",
    "    # 給定狀態(不可控)和需求 輸出一系列動作\n",
    "    '''\n",
    "    # train or eval model\n",
    "    if eval == True:\n",
    "      self.actor.eval()\n",
    "    else:\n",
    "      self.actor.train()\n",
    "    \n",
    "    # initialize hx,cx\n",
    "    hx = torch.zeros((state.size()[0],actor.hidden_size))\n",
    "    cx = torch.zeros((state.size()[0],actor.hidden_size))\n",
    "    \n",
    "    # get actions shape(batch_size,time_step,action_size)\n",
    "    actions = torch.FloatTensor()\n",
    "    \n",
    "    # 對一定時間長度進行遍歷\n",
    "    for t in range(self.time_step):\n",
    "      # 在t時刻 根據t時刻的狀態,需求以及短期記憶hx,長期記憶cx當作輸入,得到輸出a(動作),更新後的短期記憶hx,更新後的長期記憶cx\n",
    "      a,hx,cx = self.actor(torch.cat((state[:,t,:],request),dim=1),hx,cx)\n",
    "      actions = torch.cat((actions,a),dim=1)\n",
    "    # 一系列動作 (Batch,Time,Features)\n",
    "    actions = actions.reshape(state.size()[0],self.time_step,-1)\n",
    "    \n",
    "    return actions\n",
    "  \n",
    "  def critic_forward(self,state,action,eval=False):\n",
    "    '''\n",
    "    # 輸入狀態(不可控)和一系列動作(可控),預測產出\n",
    "    '''\n",
    "\n",
    "    # train or eval model\n",
    "    if eval == True:\n",
    "      self.critic.eval()\n",
    "    else:\n",
    "      self.critic.train()\n",
    "    \n",
    "    # initialize hx,cx\n",
    "    hx = torch.zeros((state.size()[0],critic.hidden_size))\n",
    "    cx = torch.zeros((state.size()[0],critic.hidden_size))\n",
    "\n",
    "    # get values shape(batch_size,time_step,value_size)\n",
    "    values = torch.FloatTensor()\n",
    "    \n",
    "    # 對時間點遍歷\n",
    "    for t in range(self.time_step):\n",
    "      # 根據當前t時刻狀態,動作,hx,cx當輸入得到,v(產出),更新hx,cx\n",
    "      v,hx,cx = self.critic(torch.cat((state[:,t,:],action[:,t,:]),dim=1),hx,cx)\n",
    "      values = torch.cat((values,v),dim=1)\n",
    "    \n",
    "    # 一系列產出(Batch,Time,Features)\n",
    "    values = values.reshape(state.size()[0],self.time_step,-1)\n",
    "    \n",
    "    # 只取最後一個時間點\n",
    "    return values[:,-1,:] # return last time_step\n",
    "\n",
    "  def train_critic(self,state,action,value):\n",
    "    '''\n",
    "    x: [state,action]\n",
    "    y: [value]\n",
    "    '監督式學習'\n",
    "    '''\n",
    "    self.critic.train()\n",
    "    self.actor.eval()\n",
    "    value_hat = self.critic_forward(state,action)\n",
    "    \n",
    "    # 預測值跟label的平方差愈小愈好\n",
    "    loss = ((value_hat-value)**2).mean()\n",
    "    loss.backward()\n",
    "    self.critic_optimizer.step()\n",
    "    self.critic_optimizer.zero_grad()\n",
    "    return loss.item()\n",
    "  \n",
    "  def train_actor(self,state,request):\n",
    "    '''\n",
    "    x: [state,request]\n",
    "    y: maximum critic value\n",
    "    '最小化產出跟request的差異'\n",
    "    '''\n",
    "    self.actor.train()\n",
    "    self.critic.eval()\n",
    "    actions = self.actor_forward(state,request)\n",
    "    value_hat = self.critic_forward(state,actions)\n",
    "\n",
    "    # 首先預測值跟需求的平方差愈小愈好\n",
    "    loss1 = ((request-value_hat)**2).mean()\n",
    "\n",
    "    # 再來避免\"變異數太大(時間維度上)\" 因為盤控人員不可能突然調太多\n",
    "    loss2 = actions.reshape(-1,time_step,action_size).std(axis=1)\n",
    "    loss2 = loss2.sum(axis=-1).mean(axis=0)\n",
    "\n",
    "    loss = loss1 + loss2\n",
    "    loss.backward()\n",
    "    \n",
    "    self.actor_optimizer.step()\n",
    "    self.actor.zero_grad()\n",
    "\n",
    "    return loss.item()"
   ]
  },
  {
   "cell_type": "code",
   "execution_count": 59,
   "metadata": {},
   "outputs": [],
   "source": [
    "actor = R2D2(state_size+request_size,action_size,hidden_size)\n",
    "critic = R2D2(state_size+action_size,value_size,hidden_size)\n",
    "model = ActorCritic(actor,critic,time_step)"
   ]
  },
  {
   "cell_type": "markdown",
   "metadata": {},
   "source": [
    "# train loop"
   ]
  },
  {
   "cell_type": "code",
   "execution_count": 60,
   "metadata": {},
   "outputs": [],
   "source": [
    "def train_critic():\n",
    "  loss = 0\n",
    "  for i,(bs,br,ba,bv) in enumerate(train_iter):\n",
    "    loss += model.train_critic(bs,ba,bv)\n",
    "  return loss\n",
    "\n",
    "def train_actor():\n",
    "  loss = 0\n",
    "  for i,(bs,br,ba,bv) in enumerate(train_iter):\n",
    "    loss += model.train_actor(bs,br)\n",
    "  return loss\n",
    "\n",
    "def train(model,train_iter,epochs=100):\n",
    "  train_history = {}\n",
    "  train_history['actor'] = []\n",
    "  train_history['critic'] = []\n",
    "  \n",
    "  for epoch in tqdm(range(epochs)):\n",
    "    loss = train_critic()\n",
    "    train_history['critic'].append(loss)\n",
    "    if epoch % 10 == 0:\n",
    "      print('epoch:{} critic_loss:{}'.format(epoch,loss))\n",
    "    \n",
    "  for epoch in tqdm(range(epochs)):\n",
    "    loss = train_actor()\n",
    "    train_history['actor'].append(loss)\n",
    "    if epoch % 10 == 0:\n",
    "      print('epoch:{} actor_loss:{}'.format(epoch,loss))\n",
    "    \n",
    "  return model,train_history"
   ]
  },
  {
   "cell_type": "code",
   "execution_count": 61,
   "metadata": {},
   "outputs": [
    {
     "name": "stdout",
     "output_type": "stream",
     "text": [
      "torch.Size([32, 8, 5])\n"
     ]
    },
    {
     "data": {
      "text/html": [
       "<style  type=\"text/css\" >\n",
       "#T_458e1455_5959_11ec_a8ec_ac1f6b871d7brow0_col0,#T_458e1455_5959_11ec_a8ec_ac1f6b871d7brow0_col2,#T_458e1455_5959_11ec_a8ec_ac1f6b871d7brow0_col3,#T_458e1455_5959_11ec_a8ec_ac1f6b871d7brow0_col4,#T_458e1455_5959_11ec_a8ec_ac1f6b871d7brow4_col1{\n",
       "            background-color:  #023858;\n",
       "            color:  #f1f1f1;\n",
       "        }#T_458e1455_5959_11ec_a8ec_ac1f6b871d7brow0_col1,#T_458e1455_5959_11ec_a8ec_ac1f6b871d7brow4_col0,#T_458e1455_5959_11ec_a8ec_ac1f6b871d7brow4_col2,#T_458e1455_5959_11ec_a8ec_ac1f6b871d7brow4_col3,#T_458e1455_5959_11ec_a8ec_ac1f6b871d7brow4_col4{\n",
       "            background-color:  #fff7fb;\n",
       "            color:  #000000;\n",
       "        }#T_458e1455_5959_11ec_a8ec_ac1f6b871d7brow1_col0{\n",
       "            background-color:  #7eadd1;\n",
       "            color:  #000000;\n",
       "        }#T_458e1455_5959_11ec_a8ec_ac1f6b871d7brow1_col1{\n",
       "            background-color:  #308cbe;\n",
       "            color:  #000000;\n",
       "        }#T_458e1455_5959_11ec_a8ec_ac1f6b871d7brow1_col2{\n",
       "            background-color:  #79abd0;\n",
       "            color:  #000000;\n",
       "        }#T_458e1455_5959_11ec_a8ec_ac1f6b871d7brow1_col3{\n",
       "            background-color:  #04639b;\n",
       "            color:  #f1f1f1;\n",
       "        }#T_458e1455_5959_11ec_a8ec_ac1f6b871d7brow1_col4{\n",
       "            background-color:  #04588a;\n",
       "            color:  #f1f1f1;\n",
       "        }#T_458e1455_5959_11ec_a8ec_ac1f6b871d7brow2_col0{\n",
       "            background-color:  #dbdaeb;\n",
       "            color:  #000000;\n",
       "        }#T_458e1455_5959_11ec_a8ec_ac1f6b871d7brow2_col1{\n",
       "            background-color:  #045687;\n",
       "            color:  #f1f1f1;\n",
       "        }#T_458e1455_5959_11ec_a8ec_ac1f6b871d7brow2_col2{\n",
       "            background-color:  #d5d5e8;\n",
       "            color:  #000000;\n",
       "        }#T_458e1455_5959_11ec_a8ec_ac1f6b871d7brow2_col3{\n",
       "            background-color:  #2786bb;\n",
       "            color:  #000000;\n",
       "        }#T_458e1455_5959_11ec_a8ec_ac1f6b871d7brow2_col4{\n",
       "            background-color:  #549cc7;\n",
       "            color:  #000000;\n",
       "        }#T_458e1455_5959_11ec_a8ec_ac1f6b871d7brow3_col0{\n",
       "            background-color:  #f5eff6;\n",
       "            color:  #000000;\n",
       "        }#T_458e1455_5959_11ec_a8ec_ac1f6b871d7brow3_col1{\n",
       "            background-color:  #023e62;\n",
       "            color:  #f1f1f1;\n",
       "        }#T_458e1455_5959_11ec_a8ec_ac1f6b871d7brow3_col2{\n",
       "            background-color:  #f2ecf5;\n",
       "            color:  #000000;\n",
       "        }#T_458e1455_5959_11ec_a8ec_ac1f6b871d7brow3_col3{\n",
       "            background-color:  #a8bedc;\n",
       "            color:  #000000;\n",
       "        }#T_458e1455_5959_11ec_a8ec_ac1f6b871d7brow3_col4{\n",
       "            background-color:  #d0d1e6;\n",
       "            color:  #000000;\n",
       "        }</style><table id=\"T_458e1455_5959_11ec_a8ec_ac1f6b871d7b\" ><thead>    <tr>        <th class=\"blank level0\" ></th>        <th class=\"col_heading level0 col0\" >0</th>        <th class=\"col_heading level0 col1\" >1</th>        <th class=\"col_heading level0 col2\" >2</th>        <th class=\"col_heading level0 col3\" >3</th>        <th class=\"col_heading level0 col4\" >4</th>    </tr></thead><tbody>\n",
       "                <tr>\n",
       "                        <th id=\"T_458e1455_5959_11ec_a8ec_ac1f6b871d7blevel0_row0\" class=\"row_heading level0 row0\" >0</th>\n",
       "                        <td id=\"T_458e1455_5959_11ec_a8ec_ac1f6b871d7brow0_col0\" class=\"data row0 col0\" >0.507869</td>\n",
       "                        <td id=\"T_458e1455_5959_11ec_a8ec_ac1f6b871d7brow0_col1\" class=\"data row0 col1\" >0.506513</td>\n",
       "                        <td id=\"T_458e1455_5959_11ec_a8ec_ac1f6b871d7brow0_col2\" class=\"data row0 col2\" >0.488489</td>\n",
       "                        <td id=\"T_458e1455_5959_11ec_a8ec_ac1f6b871d7brow0_col3\" class=\"data row0 col3\" >0.515438</td>\n",
       "                        <td id=\"T_458e1455_5959_11ec_a8ec_ac1f6b871d7brow0_col4\" class=\"data row0 col4\" >0.513331</td>\n",
       "            </tr>\n",
       "            <tr>\n",
       "                        <th id=\"T_458e1455_5959_11ec_a8ec_ac1f6b871d7blevel0_row1\" class=\"row_heading level0 row1\" >1</th>\n",
       "                        <td id=\"T_458e1455_5959_11ec_a8ec_ac1f6b871d7brow1_col0\" class=\"data row1 col0\" >0.504730</td>\n",
       "                        <td id=\"T_458e1455_5959_11ec_a8ec_ac1f6b871d7brow1_col1\" class=\"data row1 col1\" >0.508524</td>\n",
       "                        <td id=\"T_458e1455_5959_11ec_a8ec_ac1f6b871d7brow1_col2\" class=\"data row1 col2\" >0.485600</td>\n",
       "                        <td id=\"T_458e1455_5959_11ec_a8ec_ac1f6b871d7brow1_col3\" class=\"data row1 col3\" >0.515268</td>\n",
       "                        <td id=\"T_458e1455_5959_11ec_a8ec_ac1f6b871d7brow1_col4\" class=\"data row1 col4\" >0.512910</td>\n",
       "            </tr>\n",
       "            <tr>\n",
       "                        <th id=\"T_458e1455_5959_11ec_a8ec_ac1f6b871d7blevel0_row2\" class=\"row_heading level0 row2\" >2</th>\n",
       "                        <td id=\"T_458e1455_5959_11ec_a8ec_ac1f6b871d7brow2_col0\" class=\"data row2 col0\" >0.503114</td>\n",
       "                        <td id=\"T_458e1455_5959_11ec_a8ec_ac1f6b871d7brow2_col1\" class=\"data row2 col1\" >0.509310</td>\n",
       "                        <td id=\"T_458e1455_5959_11ec_a8ec_ac1f6b871d7brow2_col2\" class=\"data row2 col2\" >0.484158</td>\n",
       "                        <td id=\"T_458e1455_5959_11ec_a8ec_ac1f6b871d7brow2_col3\" class=\"data row2 col3\" >0.515117</td>\n",
       "                        <td id=\"T_458e1455_5959_11ec_a8ec_ac1f6b871d7brow2_col4\" class=\"data row2 col4\" >0.511796</td>\n",
       "            </tr>\n",
       "            <tr>\n",
       "                        <th id=\"T_458e1455_5959_11ec_a8ec_ac1f6b871d7blevel0_row3\" class=\"row_heading level0 row3\" >3</th>\n",
       "                        <td id=\"T_458e1455_5959_11ec_a8ec_ac1f6b871d7brow3_col0\" class=\"data row3 col0\" >0.502305</td>\n",
       "                        <td id=\"T_458e1455_5959_11ec_a8ec_ac1f6b871d7brow3_col1\" class=\"data row3 col1\" >0.509587</td>\n",
       "                        <td id=\"T_458e1455_5959_11ec_a8ec_ac1f6b871d7brow3_col2\" class=\"data row3 col2\" >0.483354</td>\n",
       "                        <td id=\"T_458e1455_5959_11ec_a8ec_ac1f6b871d7brow3_col3\" class=\"data row3 col3\" >0.514837</td>\n",
       "                        <td id=\"T_458e1455_5959_11ec_a8ec_ac1f6b871d7brow3_col4\" class=\"data row3 col4\" >0.510697</td>\n",
       "            </tr>\n",
       "            <tr>\n",
       "                        <th id=\"T_458e1455_5959_11ec_a8ec_ac1f6b871d7blevel0_row4\" class=\"row_heading level0 row4\" >4</th>\n",
       "                        <td id=\"T_458e1455_5959_11ec_a8ec_ac1f6b871d7brow4_col0\" class=\"data row4 col0\" >0.501914</td>\n",
       "                        <td id=\"T_458e1455_5959_11ec_a8ec_ac1f6b871d7brow4_col1\" class=\"data row4 col1\" >0.509662</td>\n",
       "                        <td id=\"T_458e1455_5959_11ec_a8ec_ac1f6b871d7brow4_col2\" class=\"data row4 col2\" >0.482868</td>\n",
       "                        <td id=\"T_458e1455_5959_11ec_a8ec_ac1f6b871d7brow4_col3\" class=\"data row4 col3\" >0.514488</td>\n",
       "                        <td id=\"T_458e1455_5959_11ec_a8ec_ac1f6b871d7brow4_col4\" class=\"data row4 col4\" >0.509809</td>\n",
       "            </tr>\n",
       "    </tbody></table>"
      ],
      "text/plain": [
       "<pandas.io.formats.style.Styler at 0x1d5b63415e0>"
      ]
     },
     "execution_count": 61,
     "metadata": {},
     "output_type": "execute_result"
    }
   ],
   "source": [
    "s,r,a,v = next(iter(train_iter))\n",
    "actions = model.actor_forward(s,r,eval=True)\n",
    "print(actions.shape)\n",
    "pd.DataFrame(actions[0].detach().numpy()).head().style.background_gradient()"
   ]
  },
  {
   "cell_type": "code",
   "execution_count": 62,
   "metadata": {},
   "outputs": [
    {
     "data": {
      "application/vnd.jupyter.widget-view+json": {
       "model_id": "5c5cea7b21ee485aafe20903fa840597",
       "version_major": 2,
       "version_minor": 0
      },
      "text/plain": [
       "HBox(children=(FloatProgress(value=0.0, max=42.0), HTML(value='')))"
      ]
     },
     "metadata": {},
     "output_type": "display_data"
    },
    {
     "name": "stdout",
     "output_type": "stream",
     "text": [
      "epoch:0 critic_loss:2.236428990605418\n",
      "epoch:10 critic_loss:0.06772754688790883\n",
      "epoch:20 critic_loss:0.06712968847568845\n",
      "epoch:30 critic_loss:0.06672850481481873\n",
      "epoch:40 critic_loss:0.06611885127767891\n",
      "\n"
     ]
    },
    {
     "data": {
      "application/vnd.jupyter.widget-view+json": {
       "model_id": "ef5724bb71a94ef2ac2380eaaf561eac",
       "version_major": 2,
       "version_minor": 0
      },
      "text/plain": [
       "HBox(children=(FloatProgress(value=0.0, max=42.0), HTML(value='')))"
      ]
     },
     "metadata": {},
     "output_type": "display_data"
    },
    {
     "name": "stdout",
     "output_type": "stream",
     "text": [
      "epoch:0 actor_loss:0.21813342603854835\n",
      "epoch:10 actor_loss:0.0489690141112078\n",
      "epoch:20 actor_loss:0.041281709214672446\n",
      "epoch:30 actor_loss:0.039029864070471376\n",
      "epoch:40 actor_loss:0.03692673653131351\n",
      "\n"
     ]
    }
   ],
   "source": [
    "model,train_history = train(model,train_iter,epochs=42)"
   ]
  },
  {
   "cell_type": "code",
   "execution_count": 63,
   "metadata": {},
   "outputs": [
    {
     "data": {
      "image/png": "[encoded data removed]",
      "text/plain": [
       "<Figure size 432x288 with 1 Axes>"
      ]
     },
     "metadata": {
      "needs_background": "light"
     },
     "output_type": "display_data"
    },
    {
     "data": {
      "text/plain": [
       "[<matplotlib.lines.Line2D at 0x1d5bacc8130>]"
      ]
     },
     "execution_count": 63,
     "metadata": {},
     "output_type": "execute_result"
    },
    {
     "data": {
      "image/png": "[encoded data removed]",
      "text/plain": [
       "<Figure size 432x288 with 1 Axes>"
      ]
     },
     "metadata": {
      "needs_background": "light"
     },
     "output_type": "display_data"
    }
   ],
   "source": [
    "import matplotlib.pyplot as plt\n",
    "\n",
    "plt.plot(train_history['critic'])\n",
    "plt.show()\n",
    "plt.plot(train_history['actor'])"
   ]
  },
  {
   "cell_type": "code",
   "execution_count": 64,
   "metadata": {},
   "outputs": [],
   "source": [
    "s,r,a,v = next(iter(train_iter))\n",
    "actions = model.actor_forward(s,r,eval=True)"
   ]
  },
  {
   "cell_type": "code",
   "execution_count": 65,
   "metadata": {},
   "outputs": [
    {
     "data": {
      "text/html": [
       "<style  type=\"text/css\" >\n",
       "#T_9c638e66_5959_11ec_8720_ac1f6b871d7brow0_col0,#T_9c638e66_5959_11ec_8720_ac1f6b871d7brow0_col1,#T_9c638e66_5959_11ec_8720_ac1f6b871d7brow0_col2,#T_9c638e66_5959_11ec_8720_ac1f6b871d7brow4_col3,#T_9c638e66_5959_11ec_8720_ac1f6b871d7brow4_col4{\n",
       "            background-color:  #023858;\n",
       "            color:  #f1f1f1;\n",
       "        }#T_9c638e66_5959_11ec_8720_ac1f6b871d7brow0_col3,#T_9c638e66_5959_11ec_8720_ac1f6b871d7brow0_col4,#T_9c638e66_5959_11ec_8720_ac1f6b871d7brow3_col2,#T_9c638e66_5959_11ec_8720_ac1f6b871d7brow4_col0,#T_9c638e66_5959_11ec_8720_ac1f6b871d7brow4_col1{\n",
       "            background-color:  #fff7fb;\n",
       "            color:  #000000;\n",
       "        }#T_9c638e66_5959_11ec_8720_ac1f6b871d7brow1_col0{\n",
       "            background-color:  #d9d8ea;\n",
       "            color:  #000000;\n",
       "        }#T_9c638e66_5959_11ec_8720_ac1f6b871d7brow1_col1{\n",
       "            background-color:  #d2d2e7;\n",
       "            color:  #000000;\n",
       "        }#T_9c638e66_5959_11ec_8720_ac1f6b871d7brow1_col2{\n",
       "            background-color:  #e0dded;\n",
       "            color:  #000000;\n",
       "        }#T_9c638e66_5959_11ec_8720_ac1f6b871d7brow1_col3{\n",
       "            background-color:  #187cb6;\n",
       "            color:  #000000;\n",
       "        }#T_9c638e66_5959_11ec_8720_ac1f6b871d7brow1_col4{\n",
       "            background-color:  #0872b1;\n",
       "            color:  #f1f1f1;\n",
       "        }#T_9c638e66_5959_11ec_8720_ac1f6b871d7brow2_col0{\n",
       "            background-color:  #f8f1f8;\n",
       "            color:  #000000;\n",
       "        }#T_9c638e66_5959_11ec_8720_ac1f6b871d7brow2_col1{\n",
       "            background-color:  #f1ebf5;\n",
       "            color:  #000000;\n",
       "        }#T_9c638e66_5959_11ec_8720_ac1f6b871d7brow2_col2,#T_9c638e66_5959_11ec_8720_ac1f6b871d7brow3_col0{\n",
       "            background-color:  #fef6fa;\n",
       "            color:  #000000;\n",
       "        }#T_9c638e66_5959_11ec_8720_ac1f6b871d7brow2_col3{\n",
       "            background-color:  #034d79;\n",
       "            color:  #f1f1f1;\n",
       "        }#T_9c638e66_5959_11ec_8720_ac1f6b871d7brow2_col4{\n",
       "            background-color:  #034c78;\n",
       "            color:  #f1f1f1;\n",
       "        }#T_9c638e66_5959_11ec_8720_ac1f6b871d7brow3_col1{\n",
       "            background-color:  #fcf4fa;\n",
       "            color:  #000000;\n",
       "        }#T_9c638e66_5959_11ec_8720_ac1f6b871d7brow3_col3,#T_9c638e66_5959_11ec_8720_ac1f6b871d7brow3_col4{\n",
       "            background-color:  #023c5f;\n",
       "            color:  #f1f1f1;\n",
       "        }#T_9c638e66_5959_11ec_8720_ac1f6b871d7brow4_col2{\n",
       "            background-color:  #fdf5fa;\n",
       "            color:  #000000;\n",
       "        }</style><table id=\"T_9c638e66_5959_11ec_8720_ac1f6b871d7b\" ><thead>    <tr>        <th class=\"blank level0\" ></th>        <th class=\"col_heading level0 col0\" >0</th>        <th class=\"col_heading level0 col1\" >1</th>        <th class=\"col_heading level0 col2\" >2</th>        <th class=\"col_heading level0 col3\" >3</th>        <th class=\"col_heading level0 col4\" >4</th>    </tr></thead><tbody>\n",
       "                <tr>\n",
       "                        <th id=\"T_9c638e66_5959_11ec_8720_ac1f6b871d7blevel0_row0\" class=\"row_heading level0 row0\" >0</th>\n",
       "                        <td id=\"T_9c638e66_5959_11ec_8720_ac1f6b871d7brow0_col0\" class=\"data row0 col0\" >0.558084</td>\n",
       "                        <td id=\"T_9c638e66_5959_11ec_8720_ac1f6b871d7brow0_col1\" class=\"data row0 col1\" >0.499145</td>\n",
       "                        <td id=\"T_9c638e66_5959_11ec_8720_ac1f6b871d7brow0_col2\" class=\"data row0 col2\" >0.551641</td>\n",
       "                        <td id=\"T_9c638e66_5959_11ec_8720_ac1f6b871d7brow0_col3\" class=\"data row0 col3\" >0.543181</td>\n",
       "                        <td id=\"T_9c638e66_5959_11ec_8720_ac1f6b871d7brow0_col4\" class=\"data row0 col4\" >0.511259</td>\n",
       "            </tr>\n",
       "            <tr>\n",
       "                        <th id=\"T_9c638e66_5959_11ec_8720_ac1f6b871d7blevel0_row1\" class=\"row_heading level0 row1\" >1</th>\n",
       "                        <td id=\"T_9c638e66_5959_11ec_8720_ac1f6b871d7brow1_col0\" class=\"data row1 col0\" >0.558076</td>\n",
       "                        <td id=\"T_9c638e66_5959_11ec_8720_ac1f6b871d7brow1_col1\" class=\"data row1 col1\" >0.499139</td>\n",
       "                        <td id=\"T_9c638e66_5959_11ec_8720_ac1f6b871d7brow1_col2\" class=\"data row1 col2\" >0.551629</td>\n",
       "                        <td id=\"T_9c638e66_5959_11ec_8720_ac1f6b871d7brow1_col3\" class=\"data row1 col3\" >0.543193</td>\n",
       "                        <td id=\"T_9c638e66_5959_11ec_8720_ac1f6b871d7brow1_col4\" class=\"data row1 col4\" >0.511278</td>\n",
       "            </tr>\n",
       "            <tr>\n",
       "                        <th id=\"T_9c638e66_5959_11ec_8720_ac1f6b871d7blevel0_row2\" class=\"row_heading level0 row2\" >2</th>\n",
       "                        <td id=\"T_9c638e66_5959_11ec_8720_ac1f6b871d7brow2_col0\" class=\"data row2 col0\" >0.558074</td>\n",
       "                        <td id=\"T_9c638e66_5959_11ec_8720_ac1f6b871d7brow2_col1\" class=\"data row2 col1\" >0.499137</td>\n",
       "                        <td id=\"T_9c638e66_5959_11ec_8720_ac1f6b871d7brow2_col2\" class=\"data row2 col2\" >0.551627</td>\n",
       "                        <td id=\"T_9c638e66_5959_11ec_8720_ac1f6b871d7brow2_col3\" class=\"data row2 col3\" >0.543197</td>\n",
       "                        <td id=\"T_9c638e66_5959_11ec_8720_ac1f6b871d7brow2_col4\" class=\"data row2 col4\" >0.511283</td>\n",
       "            </tr>\n",
       "            <tr>\n",
       "                        <th id=\"T_9c638e66_5959_11ec_8720_ac1f6b871d7blevel0_row3\" class=\"row_heading level0 row3\" >3</th>\n",
       "                        <td id=\"T_9c638e66_5959_11ec_8720_ac1f6b871d7brow3_col0\" class=\"data row3 col0\" >0.558073</td>\n",
       "                        <td id=\"T_9c638e66_5959_11ec_8720_ac1f6b871d7brow3_col1\" class=\"data row3 col1\" >0.499137</td>\n",
       "                        <td id=\"T_9c638e66_5959_11ec_8720_ac1f6b871d7brow3_col2\" class=\"data row3 col2\" >0.551626</td>\n",
       "                        <td id=\"T_9c638e66_5959_11ec_8720_ac1f6b871d7brow3_col3\" class=\"data row3 col3\" >0.543199</td>\n",
       "                        <td id=\"T_9c638e66_5959_11ec_8720_ac1f6b871d7brow3_col4\" class=\"data row3 col4\" >0.511285</td>\n",
       "            </tr>\n",
       "            <tr>\n",
       "                        <th id=\"T_9c638e66_5959_11ec_8720_ac1f6b871d7blevel0_row4\" class=\"row_heading level0 row4\" >4</th>\n",
       "                        <td id=\"T_9c638e66_5959_11ec_8720_ac1f6b871d7brow4_col0\" class=\"data row4 col0\" >0.558073</td>\n",
       "                        <td id=\"T_9c638e66_5959_11ec_8720_ac1f6b871d7brow4_col1\" class=\"data row4 col1\" >0.499137</td>\n",
       "                        <td id=\"T_9c638e66_5959_11ec_8720_ac1f6b871d7brow4_col2\" class=\"data row4 col2\" >0.551627</td>\n",
       "                        <td id=\"T_9c638e66_5959_11ec_8720_ac1f6b871d7brow4_col3\" class=\"data row4 col3\" >0.543199</td>\n",
       "                        <td id=\"T_9c638e66_5959_11ec_8720_ac1f6b871d7brow4_col4\" class=\"data row4 col4\" >0.511285</td>\n",
       "            </tr>\n",
       "    </tbody></table>"
      ],
      "text/plain": [
       "<pandas.io.formats.style.Styler at 0x1d5bacdf8e0>"
      ]
     },
     "execution_count": 65,
     "metadata": {},
     "output_type": "execute_result"
    }
   ],
   "source": [
    "pd.DataFrame(actions[0].detach().numpy()).head().style.background_gradient()"
   ]
  },
  {
   "cell_type": "code",
   "execution_count": 66,
   "metadata": {},
   "outputs": [
    {
     "data": {
      "text/plain": [
       "tensor([[0.9693]], grad_fn=<SliceBackward>)"
      ]
     },
     "execution_count": 66,
     "metadata": {},
     "output_type": "execute_result"
    }
   ],
   "source": [
    "values = model.critic_forward(s[[0]],actions[[0]],eval=True)\n",
    "values"
   ]
  },
  {
   "cell_type": "markdown",
   "metadata": {},
   "source": [
    "# 令廠商想要控制某種產出率,其中state(s)不可控,則用法為"
   ]
  },
  {
   "cell_type": "code",
   "execution_count": 82,
   "metadata": {},
   "outputs": [
    {
     "name": "stdout",
     "output_type": "stream",
     "text": [
      "[1.0]\n"
     ]
    }
   ],
   "source": [
    "wanna_ouput = [1.0]\n",
    "print(wanna_ouput)\n",
    "s,r,a,v = next(iter(train_iter))\n",
    "s = s[0].reshape(-1,time_step,state_size)\n",
    "r = torch.full((1,1),wanna_ouput[0])\n",
    "a = model.actor_forward(s,r,eval=True)\n",
    "v = model.critic_forward(s,a,eval=True)"
   ]
  },
  {
   "cell_type": "code",
   "execution_count": 83,
   "metadata": {},
   "outputs": [
    {
     "data": {
      "text/html": [
       "<style  type=\"text/css\" >\n",
       "#T_d309fe4f_595a_11ec_af75_ac1f6b871d7brow0_col0,#T_d309fe4f_595a_11ec_af75_ac1f6b871d7brow0_col2,#T_d309fe4f_595a_11ec_af75_ac1f6b871d7brow0_col4,#T_d309fe4f_595a_11ec_af75_ac1f6b871d7brow4_col1,#T_d309fe4f_595a_11ec_af75_ac1f6b871d7brow4_col3{\n",
       "            background-color:  #023858;\n",
       "            color:  #f1f1f1;\n",
       "        }#T_d309fe4f_595a_11ec_af75_ac1f6b871d7brow0_col1,#T_d309fe4f_595a_11ec_af75_ac1f6b871d7brow0_col3,#T_d309fe4f_595a_11ec_af75_ac1f6b871d7brow1_col2,#T_d309fe4f_595a_11ec_af75_ac1f6b871d7brow3_col0,#T_d309fe4f_595a_11ec_af75_ac1f6b871d7brow4_col4{\n",
       "            background-color:  #fff7fb;\n",
       "            color:  #000000;\n",
       "        }#T_d309fe4f_595a_11ec_af75_ac1f6b871d7brow1_col0{\n",
       "            background-color:  #d2d2e7;\n",
       "            color:  #000000;\n",
       "        }#T_d309fe4f_595a_11ec_af75_ac1f6b871d7brow1_col1{\n",
       "            background-color:  #7dacd1;\n",
       "            color:  #000000;\n",
       "        }#T_d309fe4f_595a_11ec_af75_ac1f6b871d7brow1_col3{\n",
       "            background-color:  #2081b9;\n",
       "            color:  #000000;\n",
       "        }#T_d309fe4f_595a_11ec_af75_ac1f6b871d7brow1_col4{\n",
       "            background-color:  #8cb3d5;\n",
       "            color:  #000000;\n",
       "        }#T_d309fe4f_595a_11ec_af75_ac1f6b871d7brow2_col0{\n",
       "            background-color:  #f3edf5;\n",
       "            color:  #000000;\n",
       "        }#T_d309fe4f_595a_11ec_af75_ac1f6b871d7brow2_col1{\n",
       "            background-color:  #0569a4;\n",
       "            color:  #f1f1f1;\n",
       "        }#T_d309fe4f_595a_11ec_af75_ac1f6b871d7brow2_col2{\n",
       "            background-color:  #a7bddb;\n",
       "            color:  #000000;\n",
       "        }#T_d309fe4f_595a_11ec_af75_ac1f6b871d7brow2_col3{\n",
       "            background-color:  #045280;\n",
       "            color:  #f1f1f1;\n",
       "        }#T_d309fe4f_595a_11ec_af75_ac1f6b871d7brow2_col4{\n",
       "            background-color:  #eae6f1;\n",
       "            color:  #000000;\n",
       "        }#T_d309fe4f_595a_11ec_af75_ac1f6b871d7brow3_col1{\n",
       "            background-color:  #03476f;\n",
       "            color:  #f1f1f1;\n",
       "        }#T_d309fe4f_595a_11ec_af75_ac1f6b871d7brow3_col2{\n",
       "            background-color:  #056dac;\n",
       "            color:  #f1f1f1;\n",
       "        }#T_d309fe4f_595a_11ec_af75_ac1f6b871d7brow3_col3{\n",
       "            background-color:  #023e62;\n",
       "            color:  #f1f1f1;\n",
       "        }#T_d309fe4f_595a_11ec_af75_ac1f6b871d7brow3_col4{\n",
       "            background-color:  #faf3f9;\n",
       "            color:  #000000;\n",
       "        }#T_d309fe4f_595a_11ec_af75_ac1f6b871d7brow4_col0{\n",
       "            background-color:  #fdf5fa;\n",
       "            color:  #000000;\n",
       "        }#T_d309fe4f_595a_11ec_af75_ac1f6b871d7brow4_col2{\n",
       "            background-color:  #03466e;\n",
       "            color:  #f1f1f1;\n",
       "        }</style><table id=\"T_d309fe4f_595a_11ec_af75_ac1f6b871d7b\" ><thead>    <tr>        <th class=\"blank level0\" ></th>        <th class=\"col_heading level0 col0\" >0</th>        <th class=\"col_heading level0 col1\" >1</th>        <th class=\"col_heading level0 col2\" >2</th>        <th class=\"col_heading level0 col3\" >3</th>        <th class=\"col_heading level0 col4\" >4</th>    </tr></thead><tbody>\n",
       "                <tr>\n",
       "                        <th id=\"T_d309fe4f_595a_11ec_af75_ac1f6b871d7blevel0_row0\" class=\"row_heading level0 row0\" >0</th>\n",
       "                        <td id=\"T_d309fe4f_595a_11ec_af75_ac1f6b871d7brow0_col0\" class=\"data row0 col0\" >0.558035</td>\n",
       "                        <td id=\"T_d309fe4f_595a_11ec_af75_ac1f6b871d7brow0_col1\" class=\"data row0 col1\" >0.499202</td>\n",
       "                        <td id=\"T_d309fe4f_595a_11ec_af75_ac1f6b871d7brow0_col2\" class=\"data row0 col2\" >0.551667</td>\n",
       "                        <td id=\"T_d309fe4f_595a_11ec_af75_ac1f6b871d7brow0_col3\" class=\"data row0 col3\" >0.543207</td>\n",
       "                        <td id=\"T_d309fe4f_595a_11ec_af75_ac1f6b871d7brow0_col4\" class=\"data row0 col4\" >0.511191</td>\n",
       "            </tr>\n",
       "            <tr>\n",
       "                        <th id=\"T_d309fe4f_595a_11ec_af75_ac1f6b871d7blevel0_row1\" class=\"row_heading level0 row1\" >1</th>\n",
       "                        <td id=\"T_d309fe4f_595a_11ec_af75_ac1f6b871d7brow1_col0\" class=\"data row1 col0\" >0.558026</td>\n",
       "                        <td id=\"T_d309fe4f_595a_11ec_af75_ac1f6b871d7brow1_col1\" class=\"data row1 col1\" >0.499211</td>\n",
       "                        <td id=\"T_d309fe4f_595a_11ec_af75_ac1f6b871d7brow1_col2\" class=\"data row1 col2\" >0.551663</td>\n",
       "                        <td id=\"T_d309fe4f_595a_11ec_af75_ac1f6b871d7brow1_col3\" class=\"data row1 col3\" >0.543232</td>\n",
       "                        <td id=\"T_d309fe4f_595a_11ec_af75_ac1f6b871d7brow1_col4\" class=\"data row1 col4\" >0.511176</td>\n",
       "            </tr>\n",
       "            <tr>\n",
       "                        <th id=\"T_d309fe4f_595a_11ec_af75_ac1f6b871d7blevel0_row2\" class=\"row_heading level0 row2\" >2</th>\n",
       "                        <td id=\"T_d309fe4f_595a_11ec_af75_ac1f6b871d7brow2_col0\" class=\"data row2 col0\" >0.558025</td>\n",
       "                        <td id=\"T_d309fe4f_595a_11ec_af75_ac1f6b871d7brow2_col1\" class=\"data row2 col1\" >0.499217</td>\n",
       "                        <td id=\"T_d309fe4f_595a_11ec_af75_ac1f6b871d7brow2_col2\" class=\"data row2 col2\" >0.551664</td>\n",
       "                        <td id=\"T_d309fe4f_595a_11ec_af75_ac1f6b871d7brow2_col3\" class=\"data row2 col3\" >0.543240</td>\n",
       "                        <td id=\"T_d309fe4f_595a_11ec_af75_ac1f6b871d7brow2_col4\" class=\"data row2 col4\" >0.511167</td>\n",
       "            </tr>\n",
       "            <tr>\n",
       "                        <th id=\"T_d309fe4f_595a_11ec_af75_ac1f6b871d7blevel0_row3\" class=\"row_heading level0 row3\" >3</th>\n",
       "                        <td id=\"T_d309fe4f_595a_11ec_af75_ac1f6b871d7brow3_col0\" class=\"data row3 col0\" >0.558024</td>\n",
       "                        <td id=\"T_d309fe4f_595a_11ec_af75_ac1f6b871d7brow3_col1\" class=\"data row3 col1\" >0.499220</td>\n",
       "                        <td id=\"T_d309fe4f_595a_11ec_af75_ac1f6b871d7brow3_col2\" class=\"data row3 col2\" >0.551666</td>\n",
       "                        <td id=\"T_d309fe4f_595a_11ec_af75_ac1f6b871d7brow3_col3\" class=\"data row3 col3\" >0.543243</td>\n",
       "                        <td id=\"T_d309fe4f_595a_11ec_af75_ac1f6b871d7brow3_col4\" class=\"data row3 col4\" >0.511164</td>\n",
       "            </tr>\n",
       "            <tr>\n",
       "                        <th id=\"T_d309fe4f_595a_11ec_af75_ac1f6b871d7blevel0_row4\" class=\"row_heading level0 row4\" >4</th>\n",
       "                        <td id=\"T_d309fe4f_595a_11ec_af75_ac1f6b871d7brow4_col0\" class=\"data row4 col0\" >0.558024</td>\n",
       "                        <td id=\"T_d309fe4f_595a_11ec_af75_ac1f6b871d7brow4_col1\" class=\"data row4 col1\" >0.499221</td>\n",
       "                        <td id=\"T_d309fe4f_595a_11ec_af75_ac1f6b871d7brow4_col2\" class=\"data row4 col2\" >0.551666</td>\n",
       "                        <td id=\"T_d309fe4f_595a_11ec_af75_ac1f6b871d7brow4_col3\" class=\"data row4 col3\" >0.543244</td>\n",
       "                        <td id=\"T_d309fe4f_595a_11ec_af75_ac1f6b871d7brow4_col4\" class=\"data row4 col4\" >0.511164</td>\n",
       "            </tr>\n",
       "    </tbody></table>"
      ],
      "text/plain": [
       "<pandas.io.formats.style.Styler at 0x1d5bad16c40>"
      ]
     },
     "execution_count": 83,
     "metadata": {},
     "output_type": "execute_result"
    }
   ],
   "source": [
    "# 模型建議操作\n",
    "pd.DataFrame(a[0].detach().numpy()).head().style.background_gradient()"
   ]
  },
  {
   "cell_type": "code",
   "execution_count": 84,
   "metadata": {},
   "outputs": [
    {
     "name": "stdout",
     "output_type": "stream",
     "text": [
      "value:[[0.98228157]]\n",
      "\n"
     ]
    }
   ],
   "source": [
    "# 模型預測根據上述操作應當的產出\n",
    "print(f'value:{v.detach().numpy()}\\n')"
   ]
  },
  {
   "cell_type": "code",
   "execution_count": 85,
   "metadata": {},
   "outputs": [
    {
     "data": {
      "application/vnd.jupyter.widget-view+json": {
       "model_id": "3f9c29aeb821492f8e10e29514dc380f",
       "version_major": 2,
       "version_minor": 0
      },
      "text/plain": [
       "HBox(children=(FloatProgress(value=0.0, max=365.0), HTML(value='')))"
      ]
     },
     "metadata": {},
     "output_type": "display_data"
    },
    {
     "name": "stdout",
     "output_type": "stream",
     "text": [
      "\n"
     ]
    }
   ],
   "source": [
    "values_list = []\n",
    "for i in tqdm(range(365)):\n",
    "    s,r,a,v = next(iter(train_iter))\n",
    "    s = s[0].reshape(-1,time_step,state_size)\n",
    "    r = torch.full((1,1),wanna_ouput[0])\n",
    "    a = model.actor_forward(s,r,eval=True)# 模型建議操作\n",
    "    v = model.critic_forward(s,a,eval=True)\n",
    "    values_list.append(v.detach().numpy()[0])\n",
    "values_list = np.array(values_list)"
   ]
  },
  {
   "cell_type": "code",
   "execution_count": 89,
   "metadata": {},
   "outputs": [
    {
     "data": {
      "text/plain": [
       "(0.9581914, 0.9688717, 0.98228157)"
      ]
     },
     "execution_count": 89,
     "metadata": {},
     "output_type": "execute_result"
    }
   ],
   "source": [
    "values_list.min(),values_list.mean(),values_list.max()"
   ]
  },
  {
   "cell_type": "code",
   "execution_count": 90,
   "metadata": {},
   "outputs": [
    {
     "data": {
      "image/png": "[encoded data removed]",
      "text/plain": [
       "<Figure size 432x288 with 1 Axes>"
      ]
     },
     "metadata": {
      "needs_background": "light"
     },
     "output_type": "display_data"
    }
   ],
   "source": [
    "data = joblib.load('..\\data\\dataset.pkl')\n",
    "a = pd.DataFrame(data['value'],columns=data['value_col'])\n",
    "\n",
    "for i,c in enumerate(a.columns):\n",
    "    sns.kdeplot(values_list[:,i],label='AI'+str(c),color='r')\n",
    "    sns.kdeplot(data['value'][:,i],label='ORIGINAL'+str(c),color='b')\n",
    "    plt.axvline(x=a.describe().loc['50%',c], label= \"50%\"+c, c='k',alpha=0.5)\n",
    "    plt.axvline(x=a.describe().loc['75%',c], label= \"75%\"+c, c='k',alpha=0.5)\n",
    "    plt.legend()\n",
    "    plt.title(c)\n",
    "    plt.show()"
   ]
  },
  {
   "cell_type": "code",
   "execution_count": 91,
   "metadata": {},
   "outputs": [],
   "source": [
    "# save weight\n",
    "torch.save(model.actor.state_dict(),'../model/actor.pth')\n",
    "torch.save(model.critic.state_dict(),'../model/critic.pth')"
   ]
  },
  {
   "cell_type": "code",
   "execution_count": null,
   "metadata": {},
   "outputs": [],
   "source": []
  }
 ],
 "metadata": {
  "interpreter": {
   "hash": "2ccee5cc862501c1aad1cf19888c2a2eca4026b72d187db43d5e889cbdc6ee97"
  },
  "kernelspec": {
   "display_name": "Python 3.8.5 64-bit ('base': conda)",
   "name": "python3"
  },
  "language_info": {
   "codemirror_mode": {
    "name": "ipython",
    "version": 3
   },
   "file_extension": ".py",
   "mimetype": "text/x-python",
   "name": "python",
   "nbconvert_exporter": "python",
   "pygments_lexer": "ipython3",
   "version": "3.8.5"
  },
  "orig_nbformat": 4
 },
 "nbformat": 4,
 "nbformat_minor": 2
}
