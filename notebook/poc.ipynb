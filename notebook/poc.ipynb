{
 "cells": [
  {
   "cell_type": "code",
   "execution_count": 1,
   "metadata": {},
   "outputs": [],
   "source": [
    "import requests\n",
    "url = 'https://gist.githubusercontent.com/skywalker0803r/e0ef295d69aba240e6ff1537be354bc8/raw/aed60047596b683853f034fad444d1da6d432ae0/Modeling.py'\n",
    "exec(requests.get(url).text)"
   ]
  },
  {
   "cell_type": "code",
   "execution_count": 2,
   "metadata": {},
   "outputs": [],
   "source": [
    "s_col = ['ARO1-DCS-FIC_98302_1','ARO1-DCS-FIC_98401_1',\n",
    "'ARO1-DCS-AC_CTIME','ARO1-DCS-AC_STIME',\n",
    "'ARO1-LIMS-S704-BR_INDEX','ARO1-LIMS-s704-744-C9',\n",
    "'ARO1-LIMS-s704-744-C10+','ARO1-LIMS-S704-WATER',\n",
    "'ARO1-LIMS-S704-TS']+['ARO1-LIMS-s704-744-C9']\n",
    "a_col = ['ARO1-DCS-AC_L2_A','ARO1-DCS-AC_L3_A','ARO1-DCS-AC_L4_A','ARO1-DCS-AC_A_FA','ARO1-DCS-AC_HF']\n",
    "y_col = [\n",
    "    \"ARO1-LIMS-s912-744-p-Xylene\",\n",
    "    \"ARO1-LIMS-s912-744-m-Xylene\",\n",
    "    \"ARO1-LIMS-s917-744-p-Xylene\",\n",
    "    \"ARO1-LIMS-s916-744-p-Xylene\",\n",
    "]"
   ]
  },
  {
   "cell_type": "code",
   "execution_count": 3,
   "metadata": {},
   "outputs": [
    {
     "data": {
      "text/html": [
       "<div>\n",
       "<style scoped>\n",
       "    .dataframe tbody tr th:only-of-type {\n",
       "        vertical-align: middle;\n",
       "    }\n",
       "\n",
       "    .dataframe tbody tr th {\n",
       "        vertical-align: top;\n",
       "    }\n",
       "\n",
       "    .dataframe thead th {\n",
       "        text-align: right;\n",
       "    }\n",
       "</style>\n",
       "<table border=\"1\" class=\"dataframe\">\n",
       "  <thead>\n",
       "    <tr style=\"text-align: right;\">\n",
       "      <th></th>\n",
       "      <th>Unnamed: 0</th>\n",
       "      <th>Unnamed: 1</th>\n",
       "      <th>ARO1-DCS-FIC_91103_2</th>\n",
       "      <th>ARO1-DCS-FIC_91103_1</th>\n",
       "      <th>ARO1-DCS-FI_91203</th>\n",
       "      <th>ARO1-DCS-FIC_98102_1</th>\n",
       "      <th>ARO1-DCS-FIC_98102_1.RESULT</th>\n",
       "      <th>ARO1-DCS-FIC_98302_1</th>\n",
       "      <th>ARO1-DCS-FIC_98302_1.RESULT</th>\n",
       "      <th>ARO1-DCS-FIC_98401_1</th>\n",
       "      <th>...</th>\n",
       "      <th>Unnamed: 55</th>\n",
       "      <th>ARO1-LIMS-S704-BR_INDEX</th>\n",
       "      <th>ARO1-LIMS-s704-744-C9</th>\n",
       "      <th>ARO1-LIMS-s704-744-C10+</th>\n",
       "      <th>ARO1-LIMS-S704-WATER</th>\n",
       "      <th>ARO1-LIMS-S704-TS</th>\n",
       "      <th>Unnamed: 61</th>\n",
       "      <th>ARO1-LIMS-s909-744-C9</th>\n",
       "      <th>ARO1-LIMS-s909-744-C10+</th>\n",
       "      <th>ARO1-LIMS-S909-BR_INDEX</th>\n",
       "    </tr>\n",
       "  </thead>\n",
       "  <tbody>\n",
       "    <tr>\n",
       "      <th>0</th>\n",
       "      <td>NaN</td>\n",
       "      <td>2013-07-20 00:00:00</td>\n",
       "      <td>638.648</td>\n",
       "      <td>638.326</td>\n",
       "      <td>645.39</td>\n",
       "      <td>12.7533</td>\n",
       "      <td>12.621</td>\n",
       "      <td>224.999</td>\n",
       "      <td>226.57</td>\n",
       "      <td>233.111</td>\n",
       "      <td>...</td>\n",
       "      <td>NaN</td>\n",
       "      <td>NaN</td>\n",
       "      <td>NaN</td>\n",
       "      <td>NaN</td>\n",
       "      <td>NaN</td>\n",
       "      <td>NaN</td>\n",
       "      <td>NaN</td>\n",
       "      <td>NaN</td>\n",
       "      <td>NaN</td>\n",
       "      <td>NaN</td>\n",
       "    </tr>\n",
       "    <tr>\n",
       "      <th>1</th>\n",
       "      <td>NaN</td>\n",
       "      <td>2013-07-20 01:00:00</td>\n",
       "      <td>651.542</td>\n",
       "      <td>653.594</td>\n",
       "      <td>634.265</td>\n",
       "      <td>12.7533</td>\n",
       "      <td>12.5872</td>\n",
       "      <td>224.999</td>\n",
       "      <td>226.244</td>\n",
       "      <td>233.111</td>\n",
       "      <td>...</td>\n",
       "      <td>NaN</td>\n",
       "      <td>NaN</td>\n",
       "      <td>NaN</td>\n",
       "      <td>NaN</td>\n",
       "      <td>NaN</td>\n",
       "      <td>NaN</td>\n",
       "      <td>NaN</td>\n",
       "      <td>NaN</td>\n",
       "      <td>NaN</td>\n",
       "      <td>NaN</td>\n",
       "    </tr>\n",
       "    <tr>\n",
       "      <th>2</th>\n",
       "      <td>NaN</td>\n",
       "      <td>2013-07-20 02:00:00</td>\n",
       "      <td>648.831</td>\n",
       "      <td>647.641</td>\n",
       "      <td>657.156</td>\n",
       "      <td>12.7533</td>\n",
       "      <td>12.6072</td>\n",
       "      <td>224.999</td>\n",
       "      <td>226.425</td>\n",
       "      <td>233.111</td>\n",
       "      <td>...</td>\n",
       "      <td>NaN</td>\n",
       "      <td>NaN</td>\n",
       "      <td>NaN</td>\n",
       "      <td>NaN</td>\n",
       "      <td>NaN</td>\n",
       "      <td>NaN</td>\n",
       "      <td>NaN</td>\n",
       "      <td>NaN</td>\n",
       "      <td>NaN</td>\n",
       "      <td>NaN</td>\n",
       "    </tr>\n",
       "    <tr>\n",
       "      <th>3</th>\n",
       "      <td>NaN</td>\n",
       "      <td>2013-07-20 03:00:00</td>\n",
       "      <td>622.012</td>\n",
       "      <td>624.454</td>\n",
       "      <td>654.175</td>\n",
       "      <td>12.7533</td>\n",
       "      <td>12.5788</td>\n",
       "      <td>224.999</td>\n",
       "      <td>226.658</td>\n",
       "      <td>233.111</td>\n",
       "      <td>...</td>\n",
       "      <td>NaN</td>\n",
       "      <td>NaN</td>\n",
       "      <td>NaN</td>\n",
       "      <td>NaN</td>\n",
       "      <td>NaN</td>\n",
       "      <td>NaN</td>\n",
       "      <td>NaN</td>\n",
       "      <td>NaN</td>\n",
       "      <td>NaN</td>\n",
       "      <td>NaN</td>\n",
       "    </tr>\n",
       "    <tr>\n",
       "      <th>4</th>\n",
       "      <td>NaN</td>\n",
       "      <td>2013-07-20 04:00:00</td>\n",
       "      <td>671.924</td>\n",
       "      <td>668.433</td>\n",
       "      <td>659.25</td>\n",
       "      <td>12.7533</td>\n",
       "      <td>12.5766</td>\n",
       "      <td>224.999</td>\n",
       "      <td>226.442</td>\n",
       "      <td>233.111</td>\n",
       "      <td>...</td>\n",
       "      <td>NaN</td>\n",
       "      <td>NaN</td>\n",
       "      <td>NaN</td>\n",
       "      <td>NaN</td>\n",
       "      <td>NaN</td>\n",
       "      <td>NaN</td>\n",
       "      <td>NaN</td>\n",
       "      <td>NaN</td>\n",
       "      <td>NaN</td>\n",
       "      <td>NaN</td>\n",
       "    </tr>\n",
       "  </tbody>\n",
       "</table>\n",
       "<p>5 rows × 65 columns</p>\n",
       "</div>"
      ],
      "text/plain": [
       "   Unnamed: 0          Unnamed: 1 ARO1-DCS-FIC_91103_2 ARO1-DCS-FIC_91103_1  \\\n",
       "0         NaN 2013-07-20 00:00:00              638.648              638.326   \n",
       "1         NaN 2013-07-20 01:00:00              651.542              653.594   \n",
       "2         NaN 2013-07-20 02:00:00              648.831              647.641   \n",
       "3         NaN 2013-07-20 03:00:00              622.012              624.454   \n",
       "4         NaN 2013-07-20 04:00:00              671.924              668.433   \n",
       "\n",
       "  ARO1-DCS-FI_91203 ARO1-DCS-FIC_98102_1 ARO1-DCS-FIC_98102_1.RESULT  \\\n",
       "0            645.39              12.7533                      12.621   \n",
       "1           634.265              12.7533                     12.5872   \n",
       "2           657.156              12.7533                     12.6072   \n",
       "3           654.175              12.7533                     12.5788   \n",
       "4            659.25              12.7533                     12.5766   \n",
       "\n",
       "  ARO1-DCS-FIC_98302_1 ARO1-DCS-FIC_98302_1.RESULT ARO1-DCS-FIC_98401_1  ...  \\\n",
       "0              224.999                      226.57              233.111  ...   \n",
       "1              224.999                     226.244              233.111  ...   \n",
       "2              224.999                     226.425              233.111  ...   \n",
       "3              224.999                     226.658              233.111  ...   \n",
       "4              224.999                     226.442              233.111  ...   \n",
       "\n",
       "  Unnamed: 55 ARO1-LIMS-S704-BR_INDEX ARO1-LIMS-s704-744-C9  \\\n",
       "0         NaN                     NaN                   NaN   \n",
       "1         NaN                     NaN                   NaN   \n",
       "2         NaN                     NaN                   NaN   \n",
       "3         NaN                     NaN                   NaN   \n",
       "4         NaN                     NaN                   NaN   \n",
       "\n",
       "  ARO1-LIMS-s704-744-C10+ ARO1-LIMS-S704-WATER ARO1-LIMS-S704-TS Unnamed: 61  \\\n",
       "0                     NaN                  NaN               NaN         NaN   \n",
       "1                     NaN                  NaN               NaN         NaN   \n",
       "2                     NaN                  NaN               NaN         NaN   \n",
       "3                     NaN                  NaN               NaN         NaN   \n",
       "4                     NaN                  NaN               NaN         NaN   \n",
       "\n",
       "  ARO1-LIMS-s909-744-C9 ARO1-LIMS-s909-744-C10+ ARO1-LIMS-S909-BR_INDEX  \n",
       "0                   NaN                     NaN                     NaN  \n",
       "1                   NaN                     NaN                     NaN  \n",
       "2                   NaN                     NaN                     NaN  \n",
       "3                   NaN                     NaN                     NaN  \n",
       "4                   NaN                     NaN                     NaN  \n",
       "\n",
       "[5 rows x 65 columns]"
      ]
     },
     "execution_count": 3,
     "metadata": {},
     "output_type": "execute_result"
    }
   ],
   "source": [
    "import pandas as pd\n",
    "df_x = pd.read_excel('../data/FCFC_ARO_900/R911R912 _ARO1_R2.xlsx',sheet_name='R911R912_TAG相關錶點資料(X)')\n",
    "df_x.head()"
   ]
  },
  {
   "cell_type": "code",
   "execution_count": 4,
   "metadata": {},
   "outputs": [
    {
     "data": {
      "text/html": [
       "<div>\n",
       "<style scoped>\n",
       "    .dataframe tbody tr th:only-of-type {\n",
       "        vertical-align: middle;\n",
       "    }\n",
       "\n",
       "    .dataframe tbody tr th {\n",
       "        vertical-align: top;\n",
       "    }\n",
       "\n",
       "    .dataframe thead th {\n",
       "        text-align: right;\n",
       "    }\n",
       "</style>\n",
       "<table border=\"1\" class=\"dataframe\">\n",
       "  <thead>\n",
       "    <tr style=\"text-align: right;\">\n",
       "      <th></th>\n",
       "      <th>Unnamed: 0</th>\n",
       "      <th>ARO1-LIMS-s704-744-p-Xylene</th>\n",
       "      <th>ARO1-LIMS-s912-744-Ethylbz</th>\n",
       "      <th>ARO1-LIMS-s912-744-p-Xylene</th>\n",
       "      <th>ARO1-LIMS-s912-744-m-Xylene</th>\n",
       "      <th>ARO1-LIMS-s912-744-o-Xylene</th>\n",
       "      <th>ARO1-DCS-PX 回收率</th>\n",
       "      <th>ARO1-LIMS-s917-744-p-Xylene</th>\n",
       "      <th>ARO1-LIMS-s916-744-p-Xylene</th>\n",
       "    </tr>\n",
       "  </thead>\n",
       "  <tbody>\n",
       "    <tr>\n",
       "      <th>0</th>\n",
       "      <td>2013-07-20 00:00:00</td>\n",
       "      <td>NaN</td>\n",
       "      <td>NaN</td>\n",
       "      <td>NaN</td>\n",
       "      <td>NaN</td>\n",
       "      <td>NaN</td>\n",
       "      <td>NaN</td>\n",
       "      <td>NaN</td>\n",
       "      <td>NaN</td>\n",
       "    </tr>\n",
       "    <tr>\n",
       "      <th>1</th>\n",
       "      <td>2013-07-20 01:00:00</td>\n",
       "      <td>NaN</td>\n",
       "      <td>NaN</td>\n",
       "      <td>NaN</td>\n",
       "      <td>NaN</td>\n",
       "      <td>NaN</td>\n",
       "      <td>NaN</td>\n",
       "      <td>NaN</td>\n",
       "      <td>NaN</td>\n",
       "    </tr>\n",
       "    <tr>\n",
       "      <th>2</th>\n",
       "      <td>2013-07-20 02:00:00</td>\n",
       "      <td>NaN</td>\n",
       "      <td>NaN</td>\n",
       "      <td>NaN</td>\n",
       "      <td>NaN</td>\n",
       "      <td>NaN</td>\n",
       "      <td>NaN</td>\n",
       "      <td>NaN</td>\n",
       "      <td>NaN</td>\n",
       "    </tr>\n",
       "    <tr>\n",
       "      <th>3</th>\n",
       "      <td>2013-07-20 03:00:00</td>\n",
       "      <td>NaN</td>\n",
       "      <td>NaN</td>\n",
       "      <td>NaN</td>\n",
       "      <td>NaN</td>\n",
       "      <td>NaN</td>\n",
       "      <td>NaN</td>\n",
       "      <td>NaN</td>\n",
       "      <td>NaN</td>\n",
       "    </tr>\n",
       "    <tr>\n",
       "      <th>4</th>\n",
       "      <td>2013-07-20 04:00:00</td>\n",
       "      <td>NaN</td>\n",
       "      <td>NaN</td>\n",
       "      <td>NaN</td>\n",
       "      <td>NaN</td>\n",
       "      <td>NaN</td>\n",
       "      <td>NaN</td>\n",
       "      <td>NaN</td>\n",
       "      <td>NaN</td>\n",
       "    </tr>\n",
       "  </tbody>\n",
       "</table>\n",
       "</div>"
      ],
      "text/plain": [
       "            Unnamed: 0  ARO1-LIMS-s704-744-p-Xylene  \\\n",
       "0  2013-07-20 00:00:00                          NaN   \n",
       "1  2013-07-20 01:00:00                          NaN   \n",
       "2  2013-07-20 02:00:00                          NaN   \n",
       "3  2013-07-20 03:00:00                          NaN   \n",
       "4  2013-07-20 04:00:00                          NaN   \n",
       "\n",
       "   ARO1-LIMS-s912-744-Ethylbz  ARO1-LIMS-s912-744-p-Xylene  \\\n",
       "0                         NaN                          NaN   \n",
       "1                         NaN                          NaN   \n",
       "2                         NaN                          NaN   \n",
       "3                         NaN                          NaN   \n",
       "4                         NaN                          NaN   \n",
       "\n",
       "   ARO1-LIMS-s912-744-m-Xylene  ARO1-LIMS-s912-744-o-Xylene ARO1-DCS-PX 回收率  \\\n",
       "0                          NaN                          NaN             NaN   \n",
       "1                          NaN                          NaN             NaN   \n",
       "2                          NaN                          NaN             NaN   \n",
       "3                          NaN                          NaN             NaN   \n",
       "4                          NaN                          NaN             NaN   \n",
       "\n",
       "   ARO1-LIMS-s917-744-p-Xylene  ARO1-LIMS-s916-744-p-Xylene  \n",
       "0                          NaN                          NaN  \n",
       "1                          NaN                          NaN  \n",
       "2                          NaN                          NaN  \n",
       "3                          NaN                          NaN  \n",
       "4                          NaN                          NaN  "
      ]
     },
     "execution_count": 4,
     "metadata": {},
     "output_type": "execute_result"
    }
   ],
   "source": [
    "df_y = pd.read_excel('../data/FCFC_ARO_900/R911R912 _ARO1_R2.xlsx',sheet_name='目標值(Y)相關錶點資料')\n",
    "df_y.head()"
   ]
  },
  {
   "cell_type": "code",
   "execution_count": 5,
   "metadata": {},
   "outputs": [
    {
     "data": {
      "text/html": [
       "<div>\n",
       "<style scoped>\n",
       "    .dataframe tbody tr th:only-of-type {\n",
       "        vertical-align: middle;\n",
       "    }\n",
       "\n",
       "    .dataframe tbody tr th {\n",
       "        vertical-align: top;\n",
       "    }\n",
       "\n",
       "    .dataframe thead th {\n",
       "        text-align: right;\n",
       "    }\n",
       "</style>\n",
       "<table border=\"1\" class=\"dataframe\">\n",
       "  <thead>\n",
       "    <tr style=\"text-align: right;\">\n",
       "      <th></th>\n",
       "      <th>ARO1-DCS-FIC_98302_1</th>\n",
       "      <th>ARO1-DCS-FIC_98401_1</th>\n",
       "      <th>ARO1-DCS-AC_CTIME</th>\n",
       "      <th>ARO1-DCS-AC_STIME</th>\n",
       "      <th>ARO1-LIMS-S704-BR_INDEX</th>\n",
       "      <th>ARO1-LIMS-s704-744-C9</th>\n",
       "      <th>ARO1-LIMS-s704-744-C10+</th>\n",
       "      <th>ARO1-LIMS-S704-WATER</th>\n",
       "      <th>ARO1-LIMS-S704-TS</th>\n",
       "      <th>ARO1-LIMS-s704-744-C9</th>\n",
       "      <th>ARO1-DCS-AC_L2_A</th>\n",
       "      <th>ARO1-DCS-AC_L3_A</th>\n",
       "      <th>ARO1-DCS-AC_L4_A</th>\n",
       "      <th>ARO1-DCS-AC_A_FA</th>\n",
       "      <th>ARO1-DCS-AC_HF</th>\n",
       "      <th>ARO1-LIMS-s912-744-p-Xylene</th>\n",
       "      <th>ARO1-LIMS-s912-744-m-Xylene</th>\n",
       "      <th>ARO1-LIMS-s917-744-p-Xylene</th>\n",
       "      <th>ARO1-LIMS-s916-744-p-Xylene</th>\n",
       "    </tr>\n",
       "  </thead>\n",
       "  <tbody>\n",
       "    <tr>\n",
       "      <th>7</th>\n",
       "      <td>224.999</td>\n",
       "      <td>233.111</td>\n",
       "      <td>33.1633</td>\n",
       "      <td>82.9083</td>\n",
       "      <td>1.22</td>\n",
       "      <td>72.0</td>\n",
       "      <td>0.0</td>\n",
       "      <td>26.760000</td>\n",
       "      <td>0.01</td>\n",
       "      <td>72.0</td>\n",
       "      <td>0.429148</td>\n",
       "      <td>1.54015</td>\n",
       "      <td>-0.510051</td>\n",
       "      <td>0.485</td>\n",
       "      <td>120.012</td>\n",
       "      <td>99.795898</td>\n",
       "      <td>604.0</td>\n",
       "      <td>48.698700</td>\n",
       "      <td>0.0395</td>\n",
       "    </tr>\n",
       "    <tr>\n",
       "      <th>31</th>\n",
       "      <td>224.999</td>\n",
       "      <td>233.111</td>\n",
       "      <td>33.1633</td>\n",
       "      <td>82.9083</td>\n",
       "      <td>1.05</td>\n",
       "      <td>94.0</td>\n",
       "      <td>0.0</td>\n",
       "      <td>29.580000</td>\n",
       "      <td>0.02</td>\n",
       "      <td>94.0</td>\n",
       "      <td>0.426103</td>\n",
       "      <td>1.54015</td>\n",
       "      <td>-0.510051</td>\n",
       "      <td>0.485</td>\n",
       "      <td>120.012</td>\n",
       "      <td>99.835800</td>\n",
       "      <td>622.0</td>\n",
       "      <td>48.840199</td>\n",
       "      <td>0.1322</td>\n",
       "    </tr>\n",
       "    <tr>\n",
       "      <th>55</th>\n",
       "      <td>224.999</td>\n",
       "      <td>233.111</td>\n",
       "      <td>33.1633</td>\n",
       "      <td>82.9083</td>\n",
       "      <td>0.75</td>\n",
       "      <td>47.0</td>\n",
       "      <td>0.0</td>\n",
       "      <td>41.740002</td>\n",
       "      <td>0.01</td>\n",
       "      <td>47.0</td>\n",
       "      <td>0.425642</td>\n",
       "      <td>1.54015</td>\n",
       "      <td>-0.510051</td>\n",
       "      <td>0.485</td>\n",
       "      <td>120.012</td>\n",
       "      <td>99.822998</td>\n",
       "      <td>635.0</td>\n",
       "      <td>48.840199</td>\n",
       "      <td>0.1322</td>\n",
       "    </tr>\n",
       "    <tr>\n",
       "      <th>79</th>\n",
       "      <td>224.999</td>\n",
       "      <td>230.711</td>\n",
       "      <td>33.5084</td>\n",
       "      <td>83.7709</td>\n",
       "      <td>1.30</td>\n",
       "      <td>49.0</td>\n",
       "      <td>0.0</td>\n",
       "      <td>32.400002</td>\n",
       "      <td>0.01</td>\n",
       "      <td>49.0</td>\n",
       "      <td>0.423744</td>\n",
       "      <td>1.54015</td>\n",
       "      <td>-0.510051</td>\n",
       "      <td>0.485</td>\n",
       "      <td>120.012</td>\n",
       "      <td>99.824203</td>\n",
       "      <td>635.0</td>\n",
       "      <td>48.840199</td>\n",
       "      <td>0.1322</td>\n",
       "    </tr>\n",
       "    <tr>\n",
       "      <th>103</th>\n",
       "      <td>224.999</td>\n",
       "      <td>229.751</td>\n",
       "      <td>33.6464</td>\n",
       "      <td>84.1159</td>\n",
       "      <td>0.55</td>\n",
       "      <td>56.0</td>\n",
       "      <td>0.0</td>\n",
       "      <td>38.590000</td>\n",
       "      <td>0.01</td>\n",
       "      <td>56.0</td>\n",
       "      <td>0.423929</td>\n",
       "      <td>1.54015</td>\n",
       "      <td>-0.510051</td>\n",
       "      <td>0.485</td>\n",
       "      <td>120.012</td>\n",
       "      <td>99.775703</td>\n",
       "      <td>657.0</td>\n",
       "      <td>43.925701</td>\n",
       "      <td>0.3068</td>\n",
       "    </tr>\n",
       "    <tr>\n",
       "      <th>...</th>\n",
       "      <td>...</td>\n",
       "      <td>...</td>\n",
       "      <td>...</td>\n",
       "      <td>...</td>\n",
       "      <td>...</td>\n",
       "      <td>...</td>\n",
       "      <td>...</td>\n",
       "      <td>...</td>\n",
       "      <td>...</td>\n",
       "      <td>...</td>\n",
       "      <td>...</td>\n",
       "      <td>...</td>\n",
       "      <td>...</td>\n",
       "      <td>...</td>\n",
       "      <td>...</td>\n",
       "      <td>...</td>\n",
       "      <td>...</td>\n",
       "      <td>...</td>\n",
       "      <td>...</td>\n",
       "    </tr>\n",
       "    <tr>\n",
       "      <th>71335</th>\n",
       "      <td>254.993</td>\n",
       "      <td>271.035</td>\n",
       "      <td>29.4369</td>\n",
       "      <td>73.5924</td>\n",
       "      <td>1.15</td>\n",
       "      <td>28.0</td>\n",
       "      <td>0.0</td>\n",
       "      <td>36.470001</td>\n",
       "      <td>0.02</td>\n",
       "      <td>28.0</td>\n",
       "      <td>0.39965</td>\n",
       "      <td>1.54006</td>\n",
       "      <td>-0.579923</td>\n",
       "      <td>0.482027</td>\n",
       "      <td>120.012</td>\n",
       "      <td>99.732300</td>\n",
       "      <td>1535.0</td>\n",
       "      <td>41.248501</td>\n",
       "      <td>1.1338</td>\n",
       "    </tr>\n",
       "    <tr>\n",
       "      <th>71359</th>\n",
       "      <td>254.993</td>\n",
       "      <td>271.035</td>\n",
       "      <td>29.4369</td>\n",
       "      <td>73.5924</td>\n",
       "      <td>1.15</td>\n",
       "      <td>28.0</td>\n",
       "      <td>0.0</td>\n",
       "      <td>48.880001</td>\n",
       "      <td>0.03</td>\n",
       "      <td>28.0</td>\n",
       "      <td>0.398779</td>\n",
       "      <td>1.54006</td>\n",
       "      <td>-0.579923</td>\n",
       "      <td>0.482027</td>\n",
       "      <td>120.012</td>\n",
       "      <td>99.734703</td>\n",
       "      <td>1535.0</td>\n",
       "      <td>41.248501</td>\n",
       "      <td>1.1338</td>\n",
       "    </tr>\n",
       "    <tr>\n",
       "      <th>71383</th>\n",
       "      <td>254.993</td>\n",
       "      <td>271.035</td>\n",
       "      <td>29.4369</td>\n",
       "      <td>73.5924</td>\n",
       "      <td>1.11</td>\n",
       "      <td>27.0</td>\n",
       "      <td>0.0</td>\n",
       "      <td>44.000000</td>\n",
       "      <td>0.02</td>\n",
       "      <td>27.0</td>\n",
       "      <td>0.396924</td>\n",
       "      <td>1.54006</td>\n",
       "      <td>-0.579923</td>\n",
       "      <td>0.482027</td>\n",
       "      <td>120.012</td>\n",
       "      <td>99.731201</td>\n",
       "      <td>1544.0</td>\n",
       "      <td>41.248501</td>\n",
       "      <td>1.1338</td>\n",
       "    </tr>\n",
       "    <tr>\n",
       "      <th>71407</th>\n",
       "      <td>254.993</td>\n",
       "      <td>271.035</td>\n",
       "      <td>29.4369</td>\n",
       "      <td>73.5924</td>\n",
       "      <td>0.74</td>\n",
       "      <td>71.0</td>\n",
       "      <td>0.0</td>\n",
       "      <td>30.000000</td>\n",
       "      <td>0.02</td>\n",
       "      <td>71.0</td>\n",
       "      <td>0.399073</td>\n",
       "      <td>1.54006</td>\n",
       "      <td>-0.579923</td>\n",
       "      <td>0.482027</td>\n",
       "      <td>120.012</td>\n",
       "      <td>99.726196</td>\n",
       "      <td>1554.0</td>\n",
       "      <td>41.248501</td>\n",
       "      <td>1.1338</td>\n",
       "    </tr>\n",
       "    <tr>\n",
       "      <th>71431</th>\n",
       "      <td>254.993</td>\n",
       "      <td>271.035</td>\n",
       "      <td>29.4369</td>\n",
       "      <td>73.5924</td>\n",
       "      <td>0.59</td>\n",
       "      <td>67.0</td>\n",
       "      <td>0.0</td>\n",
       "      <td>40.500000</td>\n",
       "      <td>0.01</td>\n",
       "      <td>67.0</td>\n",
       "      <td>0.398877</td>\n",
       "      <td>1.54006</td>\n",
       "      <td>-0.579923</td>\n",
       "      <td>0.482027</td>\n",
       "      <td>120.012</td>\n",
       "      <td>99.724098</td>\n",
       "      <td>1570.0</td>\n",
       "      <td>36.984600</td>\n",
       "      <td>0.1525</td>\n",
       "    </tr>\n",
       "  </tbody>\n",
       "</table>\n",
       "<p>2977 rows × 19 columns</p>\n",
       "</div>"
      ],
      "text/plain": [
       "      ARO1-DCS-FIC_98302_1 ARO1-DCS-FIC_98401_1 ARO1-DCS-AC_CTIME  \\\n",
       "7                  224.999              233.111           33.1633   \n",
       "31                 224.999              233.111           33.1633   \n",
       "55                 224.999              233.111           33.1633   \n",
       "79                 224.999              230.711           33.5084   \n",
       "103                224.999              229.751           33.6464   \n",
       "...                    ...                  ...               ...   \n",
       "71335              254.993              271.035           29.4369   \n",
       "71359              254.993              271.035           29.4369   \n",
       "71383              254.993              271.035           29.4369   \n",
       "71407              254.993              271.035           29.4369   \n",
       "71431              254.993              271.035           29.4369   \n",
       "\n",
       "      ARO1-DCS-AC_STIME  ARO1-LIMS-S704-BR_INDEX  ARO1-LIMS-s704-744-C9  \\\n",
       "7               82.9083                     1.22                   72.0   \n",
       "31              82.9083                     1.05                   94.0   \n",
       "55              82.9083                     0.75                   47.0   \n",
       "79              83.7709                     1.30                   49.0   \n",
       "103             84.1159                     0.55                   56.0   \n",
       "...                 ...                      ...                    ...   \n",
       "71335           73.5924                     1.15                   28.0   \n",
       "71359           73.5924                     1.15                   28.0   \n",
       "71383           73.5924                     1.11                   27.0   \n",
       "71407           73.5924                     0.74                   71.0   \n",
       "71431           73.5924                     0.59                   67.0   \n",
       "\n",
       "       ARO1-LIMS-s704-744-C10+  ARO1-LIMS-S704-WATER  ARO1-LIMS-S704-TS  \\\n",
       "7                          0.0             26.760000               0.01   \n",
       "31                         0.0             29.580000               0.02   \n",
       "55                         0.0             41.740002               0.01   \n",
       "79                         0.0             32.400002               0.01   \n",
       "103                        0.0             38.590000               0.01   \n",
       "...                        ...                   ...                ...   \n",
       "71335                      0.0             36.470001               0.02   \n",
       "71359                      0.0             48.880001               0.03   \n",
       "71383                      0.0             44.000000               0.02   \n",
       "71407                      0.0             30.000000               0.02   \n",
       "71431                      0.0             40.500000               0.01   \n",
       "\n",
       "       ARO1-LIMS-s704-744-C9 ARO1-DCS-AC_L2_A ARO1-DCS-AC_L3_A  \\\n",
       "7                       72.0         0.429148          1.54015   \n",
       "31                      94.0         0.426103          1.54015   \n",
       "55                      47.0         0.425642          1.54015   \n",
       "79                      49.0         0.423744          1.54015   \n",
       "103                     56.0         0.423929          1.54015   \n",
       "...                      ...              ...              ...   \n",
       "71335                   28.0          0.39965          1.54006   \n",
       "71359                   28.0         0.398779          1.54006   \n",
       "71383                   27.0         0.396924          1.54006   \n",
       "71407                   71.0         0.399073          1.54006   \n",
       "71431                   67.0         0.398877          1.54006   \n",
       "\n",
       "      ARO1-DCS-AC_L4_A ARO1-DCS-AC_A_FA ARO1-DCS-AC_HF  \\\n",
       "7            -0.510051            0.485        120.012   \n",
       "31           -0.510051            0.485        120.012   \n",
       "55           -0.510051            0.485        120.012   \n",
       "79           -0.510051            0.485        120.012   \n",
       "103          -0.510051            0.485        120.012   \n",
       "...                ...              ...            ...   \n",
       "71335        -0.579923         0.482027        120.012   \n",
       "71359        -0.579923         0.482027        120.012   \n",
       "71383        -0.579923         0.482027        120.012   \n",
       "71407        -0.579923         0.482027        120.012   \n",
       "71431        -0.579923         0.482027        120.012   \n",
       "\n",
       "       ARO1-LIMS-s912-744-p-Xylene  ARO1-LIMS-s912-744-m-Xylene  \\\n",
       "7                        99.795898                        604.0   \n",
       "31                       99.835800                        622.0   \n",
       "55                       99.822998                        635.0   \n",
       "79                       99.824203                        635.0   \n",
       "103                      99.775703                        657.0   \n",
       "...                            ...                          ...   \n",
       "71335                    99.732300                       1535.0   \n",
       "71359                    99.734703                       1535.0   \n",
       "71383                    99.731201                       1544.0   \n",
       "71407                    99.726196                       1554.0   \n",
       "71431                    99.724098                       1570.0   \n",
       "\n",
       "       ARO1-LIMS-s917-744-p-Xylene  ARO1-LIMS-s916-744-p-Xylene  \n",
       "7                        48.698700                       0.0395  \n",
       "31                       48.840199                       0.1322  \n",
       "55                       48.840199                       0.1322  \n",
       "79                       48.840199                       0.1322  \n",
       "103                      43.925701                       0.3068  \n",
       "...                            ...                          ...  \n",
       "71335                    41.248501                       1.1338  \n",
       "71359                    41.248501                       1.1338  \n",
       "71383                    41.248501                       1.1338  \n",
       "71407                    41.248501                       1.1338  \n",
       "71431                    36.984600                       0.1525  \n",
       "\n",
       "[2977 rows x 19 columns]"
      ]
     },
     "execution_count": 5,
     "metadata": {},
     "output_type": "execute_result"
    }
   ],
   "source": [
    "df_x[s_col+a_col].join(df_y[y_col]).dropna(axis=0)"
   ]
  },
  {
   "cell_type": "code",
   "execution_count": 6,
   "metadata": {},
   "outputs": [
    {
     "data": {
      "text/html": [
       "<div>\n",
       "<style scoped>\n",
       "    .dataframe tbody tr th:only-of-type {\n",
       "        vertical-align: middle;\n",
       "    }\n",
       "\n",
       "    .dataframe tbody tr th {\n",
       "        vertical-align: top;\n",
       "    }\n",
       "\n",
       "    .dataframe thead th {\n",
       "        text-align: right;\n",
       "    }\n",
       "</style>\n",
       "<table border=\"1\" class=\"dataframe\">\n",
       "  <thead>\n",
       "    <tr style=\"text-align: right;\">\n",
       "      <th></th>\n",
       "      <th>ARO1-DCS-FIC_98302_1</th>\n",
       "      <th>ARO1-DCS-FIC_98401_1</th>\n",
       "      <th>ARO1-LIMS-s704-744-C10+</th>\n",
       "      <th>ARO1-LIMS-S704-TS</th>\n",
       "      <th>ARO1-LIMS-S704-BR_INDEX</th>\n",
       "      <th>ARO1-LIMS-s704-744-C9</th>\n",
       "      <th>ARO1-LIMS-S704-WATER</th>\n",
       "      <th>ARO1-DCS-AC_STIME</th>\n",
       "      <th>ARO1-DCS-AC_CTIME</th>\n",
       "      <th>ARO1-DCS-AC_HF</th>\n",
       "      <th>ARO1-DCS-AC_L3_A</th>\n",
       "      <th>ARO1-DCS-AC_L4_A</th>\n",
       "      <th>ARO1-DCS-AC_L2_A</th>\n",
       "      <th>ARO1-DCS-AC_A_FA</th>\n",
       "    </tr>\n",
       "  </thead>\n",
       "  <tbody>\n",
       "    <tr>\n",
       "      <th>57727</th>\n",
       "      <td>0.988285</td>\n",
       "      <td>0.988310</td>\n",
       "      <td>0.0</td>\n",
       "      <td>0.005376</td>\n",
       "      <td>0.158268</td>\n",
       "      <td>0.291291</td>\n",
       "      <td>0.058414</td>\n",
       "      <td>0.525994</td>\n",
       "      <td>0.308293</td>\n",
       "      <td>0.923255</td>\n",
       "      <td>0.737234</td>\n",
       "      <td>0.830864</td>\n",
       "      <td>0.584529</td>\n",
       "      <td>0.510544</td>\n",
       "    </tr>\n",
       "    <tr>\n",
       "      <th>68815</th>\n",
       "      <td>0.988285</td>\n",
       "      <td>0.988310</td>\n",
       "      <td>0.0</td>\n",
       "      <td>0.005376</td>\n",
       "      <td>0.034067</td>\n",
       "      <td>0.202703</td>\n",
       "      <td>0.072121</td>\n",
       "      <td>0.525994</td>\n",
       "      <td>0.308293</td>\n",
       "      <td>0.923255</td>\n",
       "      <td>0.737234</td>\n",
       "      <td>0.830864</td>\n",
       "      <td>0.560656</td>\n",
       "      <td>0.510544</td>\n",
       "    </tr>\n",
       "    <tr>\n",
       "      <th>51871</th>\n",
       "      <td>1.000000</td>\n",
       "      <td>0.976739</td>\n",
       "      <td>0.0</td>\n",
       "      <td>0.048387</td>\n",
       "      <td>0.139815</td>\n",
       "      <td>0.135135</td>\n",
       "      <td>0.057984</td>\n",
       "      <td>0.528440</td>\n",
       "      <td>0.309727</td>\n",
       "      <td>0.923255</td>\n",
       "      <td>0.737234</td>\n",
       "      <td>0.840216</td>\n",
       "      <td>0.614370</td>\n",
       "      <td>0.496986</td>\n",
       "    </tr>\n",
       "    <tr>\n",
       "      <th>12175</th>\n",
       "      <td>0.882370</td>\n",
       "      <td>0.838470</td>\n",
       "      <td>0.0</td>\n",
       "      <td>0.005376</td>\n",
       "      <td>0.158978</td>\n",
       "      <td>0.046547</td>\n",
       "      <td>0.209015</td>\n",
       "      <td>0.634251</td>\n",
       "      <td>0.371744</td>\n",
       "      <td>0.923255</td>\n",
       "      <td>0.737276</td>\n",
       "      <td>0.868400</td>\n",
       "      <td>0.662617</td>\n",
       "      <td>0.497404</td>\n",
       "    </tr>\n",
       "    <tr>\n",
       "      <th>43711</th>\n",
       "      <td>1.000000</td>\n",
       "      <td>0.976621</td>\n",
       "      <td>0.0</td>\n",
       "      <td>0.005376</td>\n",
       "      <td>0.141235</td>\n",
       "      <td>0.048048</td>\n",
       "      <td>0.051131</td>\n",
       "      <td>0.528440</td>\n",
       "      <td>0.309727</td>\n",
       "      <td>0.923255</td>\n",
       "      <td>0.737276</td>\n",
       "      <td>0.840200</td>\n",
       "      <td>0.665480</td>\n",
       "      <td>0.497404</td>\n",
       "    </tr>\n",
       "  </tbody>\n",
       "</table>\n",
       "</div>"
      ],
      "text/plain": [
       "       ARO1-DCS-FIC_98302_1  ARO1-DCS-FIC_98401_1  ARO1-LIMS-s704-744-C10+  \\\n",
       "57727              0.988285              0.988310                      0.0   \n",
       "68815              0.988285              0.988310                      0.0   \n",
       "51871              1.000000              0.976739                      0.0   \n",
       "12175              0.882370              0.838470                      0.0   \n",
       "43711              1.000000              0.976621                      0.0   \n",
       "\n",
       "       ARO1-LIMS-S704-TS  ARO1-LIMS-S704-BR_INDEX  ARO1-LIMS-s704-744-C9  \\\n",
       "57727           0.005376                 0.158268               0.291291   \n",
       "68815           0.005376                 0.034067               0.202703   \n",
       "51871           0.048387                 0.139815               0.135135   \n",
       "12175           0.005376                 0.158978               0.046547   \n",
       "43711           0.005376                 0.141235               0.048048   \n",
       "\n",
       "       ARO1-LIMS-S704-WATER  ARO1-DCS-AC_STIME  ARO1-DCS-AC_CTIME  \\\n",
       "57727              0.058414           0.525994           0.308293   \n",
       "68815              0.072121           0.525994           0.308293   \n",
       "51871              0.057984           0.528440           0.309727   \n",
       "12175              0.209015           0.634251           0.371744   \n",
       "43711              0.051131           0.528440           0.309727   \n",
       "\n",
       "       ARO1-DCS-AC_HF  ARO1-DCS-AC_L3_A  ARO1-DCS-AC_L4_A  ARO1-DCS-AC_L2_A  \\\n",
       "57727        0.923255          0.737234          0.830864          0.584529   \n",
       "68815        0.923255          0.737234          0.830864          0.560656   \n",
       "51871        0.923255          0.737234          0.840216          0.614370   \n",
       "12175        0.923255          0.737276          0.868400          0.662617   \n",
       "43711        0.923255          0.737276          0.840200          0.665480   \n",
       "\n",
       "       ARO1-DCS-AC_A_FA  \n",
       "57727          0.510544  \n",
       "68815          0.510544  \n",
       "51871          0.496986  \n",
       "12175          0.497404  \n",
       "43711          0.497404  "
      ]
     },
     "metadata": {},
     "output_type": "display_data"
    },
    {
     "name": "stderr",
     "output_type": "stream",
     "text": [
      "<string>:46: TqdmDeprecationWarning: This function will be removed in tqdm==5.0.0\n",
      "Please use `tqdm.notebook.tqdm` instead of `tqdm.tqdm_notebook`\n"
     ]
    },
    {
     "data": {
      "application/vnd.jupyter.widget-view+json": {
       "model_id": "bc8cccb2f8ae47bcbe2710a731d31a72",
       "version_major": 2,
       "version_minor": 0
      },
      "text/plain": [
       "HBox(children=(FloatProgress(value=0.0, max=12.0), HTML(value='')))"
      ]
     },
     "metadata": {},
     "output_type": "display_data"
    },
    {
     "name": "stderr",
     "output_type": "stream",
     "text": [
      "<string>:49: TqdmDeprecationWarning: This function will be removed in tqdm==5.0.0\n",
      "Please use `tqdm.notebook.tqdm` instead of `tqdm.tqdm_notebook`\n"
     ]
    },
    {
     "data": {
      "application/vnd.jupyter.widget-view+json": {
       "model_id": "a992f60c82f744c28bc367c238865eb5",
       "version_major": 2,
       "version_minor": 0
      },
      "text/plain": [
       "HBox(children=(FloatProgress(value=0.0, max=63.0), HTML(value='')))"
      ]
     },
     "metadata": {},
     "output_type": "display_data"
    },
    {
     "name": "stdout",
     "output_type": "stream",
     "text": [
      "\n"
     ]
    },
    {
     "name": "stderr",
     "output_type": "stream",
     "text": [
      "<string>:51: TqdmDeprecationWarning: This function will be removed in tqdm==5.0.0\n",
      "Please use `tqdm.notebook.tqdm` instead of `tqdm.tqdm_notebook`\n"
     ]
    },
    {
     "data": {
      "application/vnd.jupyter.widget-view+json": {
       "model_id": "faf2f701dfdf42ab8e8d744de9f60dc0",
       "version_major": 2,
       "version_minor": 0
      },
      "text/plain": [
       "HBox(children=(FloatProgress(value=0.0, max=31.0), HTML(value='')))"
      ]
     },
     "metadata": {},
     "output_type": "display_data"
    },
    {
     "name": "stdout",
     "output_type": "stream",
     "text": [
      "\n",
      "epoch:0 train_loss:0.20786277613332194 val_loss:0.2076506346464157\n",
      "save best_model now_val_best_loss is:0.2076506346464157\n"
     ]
    },
    {
     "data": {
      "application/vnd.jupyter.widget-view+json": {
       "model_id": "fa4eb51634e0481cb1d5cfb45237d898",
       "version_major": 2,
       "version_minor": 0
      },
      "text/plain": [
       "HBox(children=(FloatProgress(value=0.0, max=63.0), HTML(value='')))"
      ]
     },
     "metadata": {},
     "output_type": "display_data"
    },
    {
     "name": "stdout",
     "output_type": "stream",
     "text": [
      "\n"
     ]
    },
    {
     "data": {
      "application/vnd.jupyter.widget-view+json": {
       "model_id": "21f368f1712a4b948cbbb34070ace8c5",
       "version_major": 2,
       "version_minor": 0
      },
      "text/plain": [
       "HBox(children=(FloatProgress(value=0.0, max=31.0), HTML(value='')))"
      ]
     },
     "metadata": {},
     "output_type": "display_data"
    },
    {
     "name": "stdout",
     "output_type": "stream",
     "text": [
      "\n",
      "epoch:1 train_loss:0.2024823415183252 val_loss:0.2052287628253301\n",
      "save best_model now_val_best_loss is:0.2052287628253301\n"
     ]
    },
    {
     "data": {
      "application/vnd.jupyter.widget-view+json": {
       "model_id": "ae03fb443a2542b4950ce08cf64a6c16",
       "version_major": 2,
       "version_minor": 0
      },
      "text/plain": [
       "HBox(children=(FloatProgress(value=0.0, max=63.0), HTML(value='')))"
      ]
     },
     "metadata": {},
     "output_type": "display_data"
    },
    {
     "name": "stdout",
     "output_type": "stream",
     "text": [
      "\n"
     ]
    },
    {
     "data": {
      "application/vnd.jupyter.widget-view+json": {
       "model_id": "29430d76629a4b2db561005897492427",
       "version_major": 2,
       "version_minor": 0
      },
      "text/plain": [
       "HBox(children=(FloatProgress(value=0.0, max=31.0), HTML(value='')))"
      ]
     },
     "metadata": {},
     "output_type": "display_data"
    },
    {
     "name": "stdout",
     "output_type": "stream",
     "text": [
      "\n",
      "epoch:2 train_loss:0.20007396561484184 val_loss:0.20264839480320612\n",
      "save best_model now_val_best_loss is:0.20264839480320612\n"
     ]
    },
    {
     "data": {
      "application/vnd.jupyter.widget-view+json": {
       "model_id": "6810caacbd574f4d931b8811865a2062",
       "version_major": 2,
       "version_minor": 0
      },
      "text/plain": [
       "HBox(children=(FloatProgress(value=0.0, max=63.0), HTML(value='')))"
      ]
     },
     "metadata": {},
     "output_type": "display_data"
    },
    {
     "name": "stdout",
     "output_type": "stream",
     "text": [
      "\n"
     ]
    },
    {
     "data": {
      "application/vnd.jupyter.widget-view+json": {
       "model_id": "740e5db8e38344b4b8c8ae1c6eaccdcd",
       "version_major": 2,
       "version_minor": 0
      },
      "text/plain": [
       "HBox(children=(FloatProgress(value=0.0, max=31.0), HTML(value='')))"
      ]
     },
     "metadata": {},
     "output_type": "display_data"
    },
    {
     "name": "stdout",
     "output_type": "stream",
     "text": [
      "\n",
      "epoch:3 train_loss:0.1975888600272517 val_loss:0.20019974708557128\n",
      "save best_model now_val_best_loss is:0.20019974708557128\n"
     ]
    },
    {
     "data": {
      "application/vnd.jupyter.widget-view+json": {
       "model_id": "9938155cef30401f96e8bd3ea33a1f4f",
       "version_major": 2,
       "version_minor": 0
      },
      "text/plain": [
       "HBox(children=(FloatProgress(value=0.0, max=63.0), HTML(value='')))"
      ]
     },
     "metadata": {},
     "output_type": "display_data"
    },
    {
     "name": "stdout",
     "output_type": "stream",
     "text": [
      "\n"
     ]
    },
    {
     "data": {
      "application/vnd.jupyter.widget-view+json": {
       "model_id": "1808564a5f8043e6a4f30d0037c40748",
       "version_major": 2,
       "version_minor": 0
      },
      "text/plain": [
       "HBox(children=(FloatProgress(value=0.0, max=31.0), HTML(value='')))"
      ]
     },
     "metadata": {},
     "output_type": "display_data"
    },
    {
     "name": "stdout",
     "output_type": "stream",
     "text": [
      "\n",
      "epoch:4 train_loss:0.19535747675165052 val_loss:0.1980546017487844\n",
      "save best_model now_val_best_loss is:0.1980546017487844\n"
     ]
    },
    {
     "data": {
      "application/vnd.jupyter.widget-view+json": {
       "model_id": "c160318e1fd34c0abadc8965a350abaa",
       "version_major": 2,
       "version_minor": 0
      },
      "text/plain": [
       "HBox(children=(FloatProgress(value=0.0, max=63.0), HTML(value='')))"
      ]
     },
     "metadata": {},
     "output_type": "display_data"
    },
    {
     "name": "stdout",
     "output_type": "stream",
     "text": [
      "\n"
     ]
    },
    {
     "data": {
      "application/vnd.jupyter.widget-view+json": {
       "model_id": "98b7f2cb460d4d719fe04603cf01fe0e",
       "version_major": 2,
       "version_minor": 0
      },
      "text/plain": [
       "HBox(children=(FloatProgress(value=0.0, max=31.0), HTML(value='')))"
      ]
     },
     "metadata": {},
     "output_type": "display_data"
    },
    {
     "name": "stdout",
     "output_type": "stream",
     "text": [
      "\n",
      "epoch:5 train_loss:0.19346877836412 val_loss:0.19622706919908522\n",
      "save best_model now_val_best_loss is:0.19622706919908522\n"
     ]
    },
    {
     "data": {
      "application/vnd.jupyter.widget-view+json": {
       "model_id": "f9c0178b3b0c4276a5ad714316b2bcc7",
       "version_major": 2,
       "version_minor": 0
      },
      "text/plain": [
       "HBox(children=(FloatProgress(value=0.0, max=63.0), HTML(value='')))"
      ]
     },
     "metadata": {},
     "output_type": "display_data"
    },
    {
     "name": "stdout",
     "output_type": "stream",
     "text": [
      "\n"
     ]
    },
    {
     "data": {
      "application/vnd.jupyter.widget-view+json": {
       "model_id": "5d1db15b2fe74df7add1b48e0beda2d7",
       "version_major": 2,
       "version_minor": 0
      },
      "text/plain": [
       "HBox(children=(FloatProgress(value=0.0, max=31.0), HTML(value='')))"
      ]
     },
     "metadata": {},
     "output_type": "display_data"
    },
    {
     "name": "stdout",
     "output_type": "stream",
     "text": [
      "\n",
      "epoch:6 train_loss:0.19186772766613192 val_loss:0.19489705363909404\n",
      "save best_model now_val_best_loss is:0.19489705363909404\n"
     ]
    },
    {
     "data": {
      "application/vnd.jupyter.widget-view+json": {
       "model_id": "7da0c142163b486988d4249f8e920f10",
       "version_major": 2,
       "version_minor": 0
      },
      "text/plain": [
       "HBox(children=(FloatProgress(value=0.0, max=63.0), HTML(value='')))"
      ]
     },
     "metadata": {},
     "output_type": "display_data"
    },
    {
     "name": "stdout",
     "output_type": "stream",
     "text": [
      "\n"
     ]
    },
    {
     "data": {
      "application/vnd.jupyter.widget-view+json": {
       "model_id": "fdd10a70036f41509d6ce10d6b9b2030",
       "version_major": 2,
       "version_minor": 0
      },
      "text/plain": [
       "HBox(children=(FloatProgress(value=0.0, max=31.0), HTML(value='')))"
      ]
     },
     "metadata": {},
     "output_type": "display_data"
    },
    {
     "name": "stdout",
     "output_type": "stream",
     "text": [
      "\n",
      "epoch:7 train_loss:0.1909976930868241 val_loss:0.19431894719600679\n",
      "save best_model now_val_best_loss is:0.19431894719600679\n"
     ]
    },
    {
     "data": {
      "application/vnd.jupyter.widget-view+json": {
       "model_id": "37191ab325d549a6840f23da3e2f0234",
       "version_major": 2,
       "version_minor": 0
      },
      "text/plain": [
       "HBox(children=(FloatProgress(value=0.0, max=63.0), HTML(value='')))"
      ]
     },
     "metadata": {},
     "output_type": "display_data"
    },
    {
     "name": "stdout",
     "output_type": "stream",
     "text": [
      "\n"
     ]
    },
    {
     "data": {
      "application/vnd.jupyter.widget-view+json": {
       "model_id": "d7b4c30de89c4ba7a53c2a9a5ceac12c",
       "version_major": 2,
       "version_minor": 0
      },
      "text/plain": [
       "HBox(children=(FloatProgress(value=0.0, max=31.0), HTML(value='')))"
      ]
     },
     "metadata": {},
     "output_type": "display_data"
    },
    {
     "name": "stdout",
     "output_type": "stream",
     "text": [
      "\n",
      "epoch:8 train_loss:0.19067360893372567 val_loss:0.1941410109400749\n",
      "save best_model now_val_best_loss is:0.1941410109400749\n"
     ]
    },
    {
     "data": {
      "application/vnd.jupyter.widget-view+json": {
       "model_id": "fdd0324476de4e039ede58a123a08f94",
       "version_major": 2,
       "version_minor": 0
      },
      "text/plain": [
       "HBox(children=(FloatProgress(value=0.0, max=63.0), HTML(value='')))"
      ]
     },
     "metadata": {},
     "output_type": "display_data"
    },
    {
     "name": "stdout",
     "output_type": "stream",
     "text": [
      "\n"
     ]
    },
    {
     "data": {
      "application/vnd.jupyter.widget-view+json": {
       "model_id": "25cd21b6b528473c8621438856447f97",
       "version_major": 2,
       "version_minor": 0
      },
      "text/plain": [
       "HBox(children=(FloatProgress(value=0.0, max=31.0), HTML(value='')))"
      ]
     },
     "metadata": {},
     "output_type": "display_data"
    },
    {
     "name": "stdout",
     "output_type": "stream",
     "text": [
      "\n",
      "epoch:9 train_loss:0.19058980432248884 val_loss:0.19409853567679722\n",
      "save best_model now_val_best_loss is:0.19409853567679722\n"
     ]
    },
    {
     "data": {
      "application/vnd.jupyter.widget-view+json": {
       "model_id": "dbf018e7c4194dfaa7c2547cf1d8ad3c",
       "version_major": 2,
       "version_minor": 0
      },
      "text/plain": [
       "HBox(children=(FloatProgress(value=0.0, max=63.0), HTML(value='')))"
      ]
     },
     "metadata": {},
     "output_type": "display_data"
    },
    {
     "name": "stdout",
     "output_type": "stream",
     "text": [
      "\n"
     ]
    },
    {
     "data": {
      "application/vnd.jupyter.widget-view+json": {
       "model_id": "3e55082457a74515820ffbb825d5972a",
       "version_major": 2,
       "version_minor": 0
      },
      "text/plain": [
       "HBox(children=(FloatProgress(value=0.0, max=31.0), HTML(value='')))"
      ]
     },
     "metadata": {},
     "output_type": "display_data"
    },
    {
     "name": "stdout",
     "output_type": "stream",
     "text": [
      "\n",
      "epoch:10 train_loss:0.1905729083284255 val_loss:0.19408882955710094\n",
      "save best_model now_val_best_loss is:0.19408882955710094\n"
     ]
    },
    {
     "data": {
      "application/vnd.jupyter.widget-view+json": {
       "model_id": "49d7e87396b94ea482c43fb017f1e9f4",
       "version_major": 2,
       "version_minor": 0
      },
      "text/plain": [
       "HBox(children=(FloatProgress(value=0.0, max=63.0), HTML(value='')))"
      ]
     },
     "metadata": {},
     "output_type": "display_data"
    },
    {
     "name": "stdout",
     "output_type": "stream",
     "text": [
      "\n"
     ]
    },
    {
     "data": {
      "application/vnd.jupyter.widget-view+json": {
       "model_id": "e4741d3cb42641eea4c521155b8b8434",
       "version_major": 2,
       "version_minor": 0
      },
      "text/plain": [
       "HBox(children=(FloatProgress(value=0.0, max=31.0), HTML(value='')))"
      ]
     },
     "metadata": {},
     "output_type": "display_data"
    },
    {
     "name": "stdout",
     "output_type": "stream",
     "text": [
      "\n",
      "epoch:11 train_loss:0.19056919169041417 val_loss:0.19408551802237828\n",
      "save best_model now_val_best_loss is:0.19408551802237828\n",
      "\n"
     ]
    }
   ],
   "source": [
    "from sklearn.model_selection import train_test_split\n",
    "from sklearn.preprocessing import MinMaxScaler\n",
    "import torch\n",
    "from torch.utils.data import DataLoader,TensorDataset\n",
    "from torch import FloatTensor\n",
    "from torch.nn import SmoothL1Loss\n",
    "from torch.optim import Adam\n",
    "from tqdm import tqdm_notebook as  tqdm\n",
    "from copy import deepcopy\n",
    "import xgboost\n",
    "from xgboost import XGBRegressor\n",
    "from sklearn.svm import SVR\n",
    "from sklearn.multioutput import MultiOutputRegressor\n",
    "s_col = list(set(s_col))\n",
    "a_col = list(set(a_col))\n",
    "y_col = list(set(y_col))\n",
    "full = df_x[s_col+a_col].join(df_y[y_col]).dropna(axis=0)\n",
    "for i in full.columns:\n",
    "    full[i] = pd.to_numeric(full[i].values.tolist(),errors='coerce')\n",
    "mms = MinMaxScaler()\n",
    "full[:] = mms.fit_transform(full[:]).astype('float32')\n",
    "full = full.dropna(axis=0)\n",
    "x_col = s_col+a_col\n",
    "X = full[x_col].astype('float32')\n",
    "y = full[y_col].astype('float32')\n",
    "X_train, X_test, y_train, y_test = train_test_split(X, y, test_size=0.33, random_state=42)\n",
    "display(X_test.head())\n",
    "train_iter = DataLoader(TensorDataset(FloatTensor(X_train.values),FloatTensor(y_train.values)),batch_size=32)\n",
    "val_iter = DataLoader(TensorDataset(FloatTensor(X_test.values),FloatTensor(y_test.values)),batch_size=32)\n",
    "layers = [len(x_col),32,32,len(y_col)]\n",
    "model = build_mlp(layers)\n",
    "optimizer = Adam(model.parameters(),lr=1e-4)\n",
    "device = 'cpu'\n",
    "loss_fn = lambda a,b:((a-b)**2).mean()\n",
    "best_model ,history = train_loop(\n",
    "    model = model,\n",
    "    train_loader = train_iter,\n",
    "    val_loader = val_iter,\n",
    "    optimizer = optimizer,\n",
    "    device = device,\n",
    "    loss_fn = loss_fn,\n",
    "    max_epochs = 12)"
   ]
  },
  {
   "cell_type": "code",
   "execution_count": 7,
   "metadata": {},
   "outputs": [
    {
     "data": {
      "image/png": "[encoded data removed]",
      "text/plain": [
       "<Figure size 432x288 with 1 Axes>"
      ]
     },
     "metadata": {
      "needs_background": "light"
     },
     "output_type": "display_data"
    }
   ],
   "source": [
    "import matplotlib.pyplot as plt\n",
    "plt.plot(history['train_loss'],label='train loss')\n",
    "plt.plot(history['val_loss'],label='val loss')\n",
    "plt.legend()\n",
    "plt.show()"
   ]
  },
  {
   "cell_type": "code",
   "execution_count": 15,
   "metadata": {},
   "outputs": [
    {
     "data": {
      "text/html": [
       "<div>\n",
       "<style scoped>\n",
       "    .dataframe tbody tr th:only-of-type {\n",
       "        vertical-align: middle;\n",
       "    }\n",
       "\n",
       "    .dataframe tbody tr th {\n",
       "        vertical-align: top;\n",
       "    }\n",
       "\n",
       "    .dataframe thead th {\n",
       "        text-align: right;\n",
       "    }\n",
       "</style>\n",
       "<table border=\"1\" class=\"dataframe\">\n",
       "  <thead>\n",
       "    <tr style=\"text-align: right;\">\n",
       "      <th></th>\n",
       "      <th>ARO1-LIMS-s912-744-p-Xylene</th>\n",
       "      <th>ARO1-LIMS-s917-744-p-Xylene</th>\n",
       "      <th>ARO1-LIMS-s916-744-p-Xylene</th>\n",
       "      <th>ARO1-LIMS-s912-744-m-Xylene</th>\n",
       "    </tr>\n",
       "  </thead>\n",
       "  <tbody>\n",
       "    <tr>\n",
       "      <th>0</th>\n",
       "      <td>0.5</td>\n",
       "      <td>0.759240</td>\n",
       "      <td>0.5</td>\n",
       "      <td>0.5</td>\n",
       "    </tr>\n",
       "    <tr>\n",
       "      <th>1</th>\n",
       "      <td>0.5</td>\n",
       "      <td>0.758002</td>\n",
       "      <td>0.5</td>\n",
       "      <td>0.5</td>\n",
       "    </tr>\n",
       "    <tr>\n",
       "      <th>2</th>\n",
       "      <td>0.5</td>\n",
       "      <td>0.761784</td>\n",
       "      <td>0.5</td>\n",
       "      <td>0.5</td>\n",
       "    </tr>\n",
       "    <tr>\n",
       "      <th>3</th>\n",
       "      <td>0.5</td>\n",
       "      <td>0.760925</td>\n",
       "      <td>0.5</td>\n",
       "      <td>0.5</td>\n",
       "    </tr>\n",
       "    <tr>\n",
       "      <th>4</th>\n",
       "      <td>0.5</td>\n",
       "      <td>0.761989</td>\n",
       "      <td>0.5</td>\n",
       "      <td>0.5</td>\n",
       "    </tr>\n",
       "    <tr>\n",
       "      <th>...</th>\n",
       "      <td>...</td>\n",
       "      <td>...</td>\n",
       "      <td>...</td>\n",
       "      <td>...</td>\n",
       "    </tr>\n",
       "    <tr>\n",
       "      <th>977</th>\n",
       "      <td>0.5</td>\n",
       "      <td>0.761534</td>\n",
       "      <td>0.5</td>\n",
       "      <td>0.5</td>\n",
       "    </tr>\n",
       "    <tr>\n",
       "      <th>978</th>\n",
       "      <td>0.5</td>\n",
       "      <td>0.760015</td>\n",
       "      <td>0.5</td>\n",
       "      <td>0.5</td>\n",
       "    </tr>\n",
       "    <tr>\n",
       "      <th>979</th>\n",
       "      <td>0.5</td>\n",
       "      <td>0.759552</td>\n",
       "      <td>0.5</td>\n",
       "      <td>0.5</td>\n",
       "    </tr>\n",
       "    <tr>\n",
       "      <th>980</th>\n",
       "      <td>0.5</td>\n",
       "      <td>0.758957</td>\n",
       "      <td>0.5</td>\n",
       "      <td>0.5</td>\n",
       "    </tr>\n",
       "    <tr>\n",
       "      <th>981</th>\n",
       "      <td>0.5</td>\n",
       "      <td>0.760471</td>\n",
       "      <td>0.5</td>\n",
       "      <td>0.5</td>\n",
       "    </tr>\n",
       "  </tbody>\n",
       "</table>\n",
       "<p>982 rows × 4 columns</p>\n",
       "</div>"
      ],
      "text/plain": [
       "     ARO1-LIMS-s912-744-p-Xylene  ARO1-LIMS-s917-744-p-Xylene  \\\n",
       "0                            0.5                     0.759240   \n",
       "1                            0.5                     0.758002   \n",
       "2                            0.5                     0.761784   \n",
       "3                            0.5                     0.760925   \n",
       "4                            0.5                     0.761989   \n",
       "..                           ...                          ...   \n",
       "977                          0.5                     0.761534   \n",
       "978                          0.5                     0.760015   \n",
       "979                          0.5                     0.759552   \n",
       "980                          0.5                     0.758957   \n",
       "981                          0.5                     0.760471   \n",
       "\n",
       "     ARO1-LIMS-s916-744-p-Xylene  ARO1-LIMS-s912-744-m-Xylene  \n",
       "0                            0.5                          0.5  \n",
       "1                            0.5                          0.5  \n",
       "2                            0.5                          0.5  \n",
       "3                            0.5                          0.5  \n",
       "4                            0.5                          0.5  \n",
       "..                           ...                          ...  \n",
       "977                          0.5                          0.5  \n",
       "978                          0.5                          0.5  \n",
       "979                          0.5                          0.5  \n",
       "980                          0.5                          0.5  \n",
       "981                          0.5                          0.5  \n",
       "\n",
       "[982 rows x 4 columns]"
      ]
     },
     "execution_count": 15,
     "metadata": {},
     "output_type": "execute_result"
    }
   ],
   "source": [
    "y_predict = model(FloatTensor(X_test.values)).detach().numpy()\n",
    "y_predict = pd.DataFrame(y_predict,columns=y_col)\n",
    "y_predict"
   ]
  },
  {
   "cell_type": "code",
   "execution_count": 22,
   "metadata": {},
   "outputs": [],
   "source": [
    "def 回收率計算函數(\n",
    "    進料PX含量 = 'ARO2-LIMS-S708@A9',\n",
    "    萃取油PX含量 = 'ARO2-LIMS-S907@PX',\n",
    "    萃餘油PX含量 = 'ARO2-LIMS-S905@PX',\n",
    "    ):\n",
    "    分母 = 進料PX含量*(萃取油PX含量-萃餘油PX含量)\n",
    "    分子 = 萃取油PX含量*(進料PX含量-萃餘油PX含量)\n",
    "    return 分子/分母"
   ]
  },
  {
   "cell_type": "code",
   "execution_count": 26,
   "metadata": {},
   "outputs": [
    {
     "name": "stderr",
     "output_type": "stream",
     "text": [
      "C:\\Users\\ricky\\AppData\\Local\\Temp/ipykernel_568/353551365.py:8: RuntimeWarning: divide by zero encountered in true_divide\n",
      "  return 分子/分母\n"
     ]
    }
   ],
   "source": [
    "預測回收率 = 回收率計算函數(\n",
    "    進料PX含量 = X_test[\"ARO1-LIMS-s704-744-C9\"].values,\n",
    "    萃取油PX含量 = y_test['ARO1-LIMS-s917-744-p-Xylene'].values,\n",
    "    萃餘油PX含量 = y_test['ARO1-LIMS-s916-744-p-Xylene'].values,\n",
    "    )\n",
    "真實回收率 = 回收率計算函數(\n",
    "    進料PX含量 = X_test[\"ARO1-LIMS-s704-744-C9\"].values,\n",
    "    萃取油PX含量 = y_predict['ARO1-LIMS-s917-744-p-Xylene'].values,\n",
    "    萃餘油PX含量 = y_predict['ARO1-LIMS-s916-744-p-Xylene'].values,\n",
    "    )"
   ]
  },
  {
   "cell_type": "code",
   "execution_count": 52,
   "metadata": {},
   "outputs": [
    {
     "name": "stderr",
     "output_type": "stream",
     "text": [
      "C:\\Users\\ricky\\AppData\\Local\\Temp/ipykernel_568/2748536608.py:3: RuntimeWarning: invalid value encountered in subtract\n",
      "  return np.mean(np.abs((y_true - y_pred) / y_true)) * 100\n"
     ]
    },
    {
     "data": {
      "text/plain": [
       "<AxesSubplot:>"
      ]
     },
     "execution_count": 52,
     "metadata": {},
     "output_type": "execute_result"
    },
    {
     "data": {
      "image/png": "[encoded data removed]",
      "text/plain": [
       "<Figure size 432x288 with 1 Axes>"
      ]
     },
     "metadata": {
      "needs_background": "light"
     },
     "output_type": "display_data"
    }
   ],
   "source": [
    "def mape(y_true, y_pred): \n",
    "    y_true, y_pred = np.array(y_true), np.array(y_pred)\n",
    "    return np.mean(np.abs((y_true - y_pred) / y_true)) * 100\n",
    "mapes = []\n",
    "for i in range(100):\n",
    "    idx = np.random.choice([*range(len(真實回收率))],size=100)\n",
    "    mapes.append(mape(真實回收率[idx],預測回收率[idx]))\n",
    "mapes = [i for i in mapes if str(i) != 'nan']\n",
    "mapes\n",
    "import seaborn as sns\n",
    "sns.kdeplot(mapes)"
   ]
  },
  {
   "cell_type": "code",
   "execution_count": null,
   "metadata": {},
   "outputs": [],
   "source": []
  }
 ],
 "metadata": {
  "interpreter": {
   "hash": "993826b923065dd66fa4bf5d15ab27fb473cbe0d9ee1e2a0f60195f6a60c263f"
  },
  "kernelspec": {
   "display_name": "Python 3.7.11 ('bert_env')",
   "language": "python",
   "name": "python3"
  },
  "language_info": {
   "codemirror_mode": {
    "name": "ipython",
    "version": 3
   },
   "file_extension": ".py",
   "mimetype": "text/x-python",
   "name": "python",
   "nbconvert_exporter": "python",
   "pygments_lexer": "ipython3",
   "version": "3.8.5"
  },
  "orig_nbformat": 4
 },
 "nbformat": 4,
 "nbformat_minor": 2
}
